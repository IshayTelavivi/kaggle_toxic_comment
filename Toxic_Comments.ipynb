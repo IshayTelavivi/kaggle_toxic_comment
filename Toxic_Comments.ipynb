{
 "cells": [
  {
   "cell_type": "code",
   "execution_count": 2,
   "metadata": {},
   "outputs": [
    {
     "name": "stderr",
     "output_type": "stream",
     "text": [
      "Using TensorFlow backend.\n"
     ]
    }
   ],
   "source": [
    "import pandas as pd\n",
    "import numpy as np\n",
    "import matplotlib.pyplot as plt\n",
    "%matplotlib inline\n",
    "from sklearn.model_selection import train_test_split\n",
    "from sklearn.metrics import roc_auc_score\n",
    "from nltk import word_tokenize\n",
    "from nltk import sent_tokenize\n",
    "from nltk import casual_tokenize\n",
    "from nltk import wordpunct_tokenize\n",
    "from nltk.corpus import stopwords\n",
    "from nltk.stem import SnowballStemmer\n",
    "from keras.preprocessing.text import Tokenizer\n",
    "from keras.preprocessing import sequence\n",
    "from keras.models import Model\n",
    "from keras.callbacks import Callback\n",
    "from keras.layers import Embedding\n",
    "from keras.layers import SpatialDropout1D\n",
    "from keras.layers import Convolution1D\n",
    "from keras.layers import Conv1D\n",
    "from keras.layers import GlobalMaxPooling1D\n",
    "from keras.layers import Dense, Dropout, Activation, Flatten, concatenate\n",
    "from keras.layers import MaxPooling1D, MaxPooling2D\n",
    "from keras.layers import Input\n",
    "from keras.layers import LSTM\n",
    "from keras.wrappers.scikit_learn import KerasClassifier\n",
    "import seaborn as sns\n",
    "import re\n",
    "from tqdm import tqdm_notebook as tqdm\n",
    "from collections import Counter\n",
    "from ipywidgets import interact\n",
    "import joblib"
   ]
  },
  {
   "cell_type": "code",
   "execution_count": 1,
   "metadata": {},
   "outputs": [
    {
     "name": "stdout",
     "output_type": "stream",
     "text": [
      "Collecting joblib\n",
      "\u001b[?25l  Downloading https://files.pythonhosted.org/packages/c5/f2/925eaa3f8a06270437470112e5c21c32d6eb08e3ef492ccff43241612eb2/joblib-0.12.3-py2.py3-none-any.whl (271kB)\n",
      "\u001b[K    100% |████████████████████████████████| 276kB 7.2MB/s \n",
      "\u001b[31mthinc 6.10.2 has requirement cytoolz<0.9,>=0.8, but you'll have cytoolz 0.9.0.1 which is incompatible.\u001b[0m\n",
      "\u001b[?25hInstalling collected packages: joblib\n",
      "Successfully installed joblib-0.12.3\n",
      "\u001b[33mYou are using pip version 10.0.1, however version 18.0 is available.\n",
      "You should consider upgrading via the 'pip install --upgrade pip' command.\u001b[0m\n"
     ]
    }
   ],
   "source": [
    "!pip install joblib"
   ]
  },
  {
   "cell_type": "code",
   "execution_count": 3,
   "metadata": {},
   "outputs": [
    {
     "data": {
      "text/html": [
       "<div>\n",
       "<style scoped>\n",
       "    .dataframe tbody tr th:only-of-type {\n",
       "        vertical-align: middle;\n",
       "    }\n",
       "\n",
       "    .dataframe tbody tr th {\n",
       "        vertical-align: top;\n",
       "    }\n",
       "\n",
       "    .dataframe thead th {\n",
       "        text-align: right;\n",
       "    }\n",
       "</style>\n",
       "<table border=\"1\" class=\"dataframe\">\n",
       "  <thead>\n",
       "    <tr style=\"text-align: right;\">\n",
       "      <th></th>\n",
       "      <th>id</th>\n",
       "      <th>comment_text</th>\n",
       "      <th>toxic</th>\n",
       "      <th>severe_toxic</th>\n",
       "      <th>obscene</th>\n",
       "      <th>threat</th>\n",
       "      <th>insult</th>\n",
       "      <th>identity_hate</th>\n",
       "    </tr>\n",
       "  </thead>\n",
       "  <tbody>\n",
       "    <tr>\n",
       "      <th>0</th>\n",
       "      <td>0000997932d777bf</td>\n",
       "      <td>Explanation\\nWhy the edits made under my usern...</td>\n",
       "      <td>0</td>\n",
       "      <td>0</td>\n",
       "      <td>0</td>\n",
       "      <td>0</td>\n",
       "      <td>0</td>\n",
       "      <td>0</td>\n",
       "    </tr>\n",
       "    <tr>\n",
       "      <th>1</th>\n",
       "      <td>000103f0d9cfb60f</td>\n",
       "      <td>D'aww! He matches this background colour I'm s...</td>\n",
       "      <td>0</td>\n",
       "      <td>0</td>\n",
       "      <td>0</td>\n",
       "      <td>0</td>\n",
       "      <td>0</td>\n",
       "      <td>0</td>\n",
       "    </tr>\n",
       "    <tr>\n",
       "      <th>2</th>\n",
       "      <td>000113f07ec002fd</td>\n",
       "      <td>Hey man, I'm really not trying to edit war. It...</td>\n",
       "      <td>0</td>\n",
       "      <td>0</td>\n",
       "      <td>0</td>\n",
       "      <td>0</td>\n",
       "      <td>0</td>\n",
       "      <td>0</td>\n",
       "    </tr>\n",
       "    <tr>\n",
       "      <th>3</th>\n",
       "      <td>0001b41b1c6bb37e</td>\n",
       "      <td>\"\\nMore\\nI can't make any real suggestions on ...</td>\n",
       "      <td>0</td>\n",
       "      <td>0</td>\n",
       "      <td>0</td>\n",
       "      <td>0</td>\n",
       "      <td>0</td>\n",
       "      <td>0</td>\n",
       "    </tr>\n",
       "    <tr>\n",
       "      <th>4</th>\n",
       "      <td>0001d958c54c6e35</td>\n",
       "      <td>You, sir, are my hero. Any chance you remember...</td>\n",
       "      <td>0</td>\n",
       "      <td>0</td>\n",
       "      <td>0</td>\n",
       "      <td>0</td>\n",
       "      <td>0</td>\n",
       "      <td>0</td>\n",
       "    </tr>\n",
       "  </tbody>\n",
       "</table>\n",
       "</div>"
      ],
      "text/plain": [
       "                 id                                       comment_text  toxic  \\\n",
       "0  0000997932d777bf  Explanation\\nWhy the edits made under my usern...      0   \n",
       "1  000103f0d9cfb60f  D'aww! He matches this background colour I'm s...      0   \n",
       "2  000113f07ec002fd  Hey man, I'm really not trying to edit war. It...      0   \n",
       "3  0001b41b1c6bb37e  \"\\nMore\\nI can't make any real suggestions on ...      0   \n",
       "4  0001d958c54c6e35  You, sir, are my hero. Any chance you remember...      0   \n",
       "\n",
       "   severe_toxic  obscene  threat  insult  identity_hate  \n",
       "0             0        0       0       0              0  \n",
       "1             0        0       0       0              0  \n",
       "2             0        0       0       0              0  \n",
       "3             0        0       0       0              0  \n",
       "4             0        0       0       0              0  "
      ]
     },
     "execution_count": 3,
     "metadata": {},
     "output_type": "execute_result"
    }
   ],
   "source": [
    "raw_full_train = pd.read_csv(\"/floyd/input/toxic_comments_data/train_copy.csv\")\n",
    "raw_full_train.head()"
   ]
  },
  {
   "cell_type": "code",
   "execution_count": 4,
   "metadata": {
    "collapsed": true
   },
   "outputs": [],
   "source": [
    "# Loading test_data to be able to modify with train data\n",
    "test_data = pd.read_csv(\"/floyd/input/toxic_comments_data/test_copy.csv\")"
   ]
  },
  {
   "cell_type": "markdown",
   "metadata": {},
   "source": [
    "## High Level Exploration"
   ]
  },
  {
   "cell_type": "code",
   "execution_count": 5,
   "metadata": {},
   "outputs": [
    {
     "name": "stdout",
     "output_type": "stream",
     "text": [
      "DF Shape:\n",
      "(159571, 8)\n"
     ]
    }
   ],
   "source": [
    "# DF shape\n",
    "print(\"DF Shape:\")\n",
    "print(raw_full_train.shape)"
   ]
  },
  {
   "cell_type": "code",
   "execution_count": 6,
   "metadata": {},
   "outputs": [
    {
     "data": {
      "text/plain": [
       "id               0\n",
       "comment_text     0\n",
       "toxic            0\n",
       "severe_toxic     0\n",
       "obscene          0\n",
       "threat           0\n",
       "insult           0\n",
       "identity_hate    0\n",
       "dtype: int64"
      ]
     },
     "execution_count": 6,
     "metadata": {},
     "output_type": "execute_result"
    }
   ],
   "source": [
    "# Checks for nuls\n",
    "raw_full_train.isnull().sum()"
   ]
  },
  {
   "cell_type": "code",
   "execution_count": 7,
   "metadata": {},
   "outputs": [
    {
     "data": {
      "text/plain": [
       "['toxic', 'severe_toxic', 'obscene', 'threat', 'insult', 'identity_hate']"
      ]
     },
     "execution_count": 7,
     "metadata": {},
     "output_type": "execute_result"
    }
   ],
   "source": [
    "label_headers_list = list(raw_full_train.columns[2:])\n",
    "label_headers_list"
   ]
  },
  {
   "cell_type": "code",
   "execution_count": 8,
   "metadata": {},
   "outputs": [
    {
     "name": "stdout",
     "output_type": "stream",
     "text": [
      "toxic [0 1]\n",
      "severe_toxic [0 1]\n",
      "obscene [0 1]\n",
      "threat [0 1]\n",
      "insult [0 1]\n",
      "identity_hate [0 1]\n"
     ]
    }
   ],
   "source": [
    "# Making sure that I have only 0 and 1 values\n",
    "for label in label_headers_list:\n",
    "    print(label, raw_full_train[label].unique())"
   ]
  },
  {
   "cell_type": "code",
   "execution_count": 9,
   "metadata": {},
   "outputs": [
    {
     "data": {
      "text/plain": [
       "[('toxic', 9.584448302009765),\n",
       " ('severe_toxic', 0.9995550569965721),\n",
       " ('obscene', 5.2948217407925),\n",
       " ('threat', 0.2995531769557125),\n",
       " ('insult', 4.936360616904074),\n",
       " ('identity_hate', 0.8804858025581089)]"
      ]
     },
     "execution_count": 9,
     "metadata": {},
     "output_type": "execute_result"
    }
   ],
   "source": [
    "# Checking the percentage of positive per label\n",
    "# In the chart - keeping the label order rather than gradually descending\n",
    "percent_positive_all_labels = [raw_full_train[label].mean() * 100 for label in label_headers_list]\n",
    "percent_per_label = list(zip(label_headers_list, percent_positive_all_labels))\n",
    "percent_per_label"
   ]
  },
  {
   "cell_type": "code",
   "execution_count": 10,
   "metadata": {},
   "outputs": [
    {
     "data": {
      "text/plain": [
       "Text(0.5,0,'Categoty')"
      ]
     },
     "execution_count": 10,
     "metadata": {},
     "output_type": "execute_result"
    },
    {
     "data": {
      "image/png": "[encoded data removed]",
      "text/plain": [
       "<matplotlib.figure.Figure at 0x27cb7b51390>"
      ]
     },
     "metadata": {},
     "output_type": "display_data"
    }
   ],
   "source": [
    "ax = plt.figure(figsize=(10,6)).gca()\n",
    "ax.bar(x=list(range(6)), height=percent_positive_all_labels, tick_label=[label for label in label_headers_list])\n",
    "ax.yaxis.grid()\n",
    "ax.set_title(\"Percent Positive per Categoty\")\n",
    "ax.set_ylabel('Percentage')\n",
    "ax.set_xlabel('Categoty')"
   ]
  },
  {
   "cell_type": "code",
   "execution_count": 5,
   "metadata": {
    "collapsed": true
   },
   "outputs": [],
   "source": [
    "# Spliting the data\n",
    "train_data, val_data = train_test_split(raw_full_train, test_size=0.2, random_state=0)"
   ]
  },
  {
   "cell_type": "code",
   "execution_count": 12,
   "metadata": {
    "collapsed": true
   },
   "outputs": [],
   "source": [
    "# Making sure that I have the same proportions (roughly) of positives\n",
    "data_sets = [train_data, val_data]\n",
    "percent_positive_train_val = []\n",
    "# The following loop calculates the percentage of the positive values for both the train and val data\n",
    "for dataset in data_sets:\n",
    "    percent_positive_per_dataset = [dataset[label].mean() * 100 for label in label_headers_list]\n",
    "    percent_positive_train_val.append(percent_positive_per_dataset)   "
   ]
  },
  {
   "cell_type": "code",
   "execution_count": 13,
   "metadata": {},
   "outputs": [
    {
     "data": {
      "text/plain": [
       "<matplotlib.legend.Legend at 0x27ca67eb3c8>"
      ]
     },
     "execution_count": 13,
     "metadata": {},
     "output_type": "execute_result"
    },
    {
     "data": {
      "image/png": "[encoded data removed]",
      "text/plain": [
       "<matplotlib.figure.Figure at 0x27ca67a5748>"
      ]
     },
     "metadata": {},
     "output_type": "display_data"
    }
   ],
   "source": [
    "# Plotting\n",
    "ax = plt.figure(figsize=(10,6)).gca()\n",
    "width = 0.4\n",
    "ax.bar(x=np.array(list(range(6)))-width/2, height=percent_positive_train_val[0], width = width, tick_label=label_headers_list,\\\n",
    "      label=\"train\")\n",
    "ax.bar(x=np.array(list(range(6)))+width/2, height=percent_positive_train_val[1], width = width, label='val')\n",
    "ax.yaxis.grid() \n",
    "ax.set_title(\"Percent Positive per Categoty for train and val sets\")\n",
    "ax.set_ylabel('Percentage')\n",
    "ax.set_xlabel('Categoty')\n",
    "ax.legend()"
   ]
  },
  {
   "cell_type": "markdown",
   "metadata": {},
   "source": [
    "It's OK"
   ]
  },
  {
   "cell_type": "markdown",
   "metadata": {},
   "source": [
    "**Visualize Combinations of Positives**"
   ]
  },
  {
   "cell_type": "code",
   "execution_count": 14,
   "metadata": {
    "collapsed": true
   },
   "outputs": [],
   "source": [
    "df = train_data.groupby(['toxic', 'severe_toxic', 'obscene', 'threat', 'insult', 'identity_hate'])['id'].count()"
   ]
  },
  {
   "cell_type": "code",
   "execution_count": 15,
   "metadata": {},
   "outputs": [
    {
     "data": {
      "text/html": [
       "<div>\n",
       "<style>\n",
       "    .dataframe thead tr:only-child th {\n",
       "        text-align: right;\n",
       "    }\n",
       "\n",
       "    .dataframe thead th {\n",
       "        text-align: left;\n",
       "    }\n",
       "\n",
       "    .dataframe tbody tr th {\n",
       "        vertical-align: top;\n",
       "    }\n",
       "</style>\n",
       "<table border=\"1\" class=\"dataframe\">\n",
       "  <thead>\n",
       "    <tr style=\"text-align: right;\">\n",
       "      <th></th>\n",
       "      <th></th>\n",
       "      <th></th>\n",
       "      <th></th>\n",
       "      <th></th>\n",
       "      <th></th>\n",
       "      <th>id</th>\n",
       "    </tr>\n",
       "    <tr>\n",
       "      <th>toxic</th>\n",
       "      <th>severe_toxic</th>\n",
       "      <th>obscene</th>\n",
       "      <th>threat</th>\n",
       "      <th>insult</th>\n",
       "      <th>identity_hate</th>\n",
       "      <th></th>\n",
       "    </tr>\n",
       "  </thead>\n",
       "  <tbody>\n",
       "    <tr>\n",
       "      <th rowspan=\"10\" valign=\"top\">0</th>\n",
       "      <th rowspan=\"10\" valign=\"top\">0</th>\n",
       "      <th rowspan=\"6\" valign=\"top\">0</th>\n",
       "      <th rowspan=\"4\" valign=\"top\">0</th>\n",
       "      <th rowspan=\"2\" valign=\"top\">0</th>\n",
       "      <th>0</th>\n",
       "      <td>114736</td>\n",
       "    </tr>\n",
       "    <tr>\n",
       "      <th>1</th>\n",
       "      <td>40</td>\n",
       "    </tr>\n",
       "    <tr>\n",
       "      <th rowspan=\"2\" valign=\"top\">1</th>\n",
       "      <th>0</th>\n",
       "      <td>230</td>\n",
       "    </tr>\n",
       "    <tr>\n",
       "      <th>1</th>\n",
       "      <td>22</td>\n",
       "    </tr>\n",
       "    <tr>\n",
       "      <th rowspan=\"2\" valign=\"top\">1</th>\n",
       "      <th>0</th>\n",
       "      <th>0</th>\n",
       "      <td>20</td>\n",
       "    </tr>\n",
       "    <tr>\n",
       "      <th>1</th>\n",
       "      <th>0</th>\n",
       "      <td>2</td>\n",
       "    </tr>\n",
       "    <tr>\n",
       "      <th rowspan=\"4\" valign=\"top\">1</th>\n",
       "      <th rowspan=\"4\" valign=\"top\">0</th>\n",
       "      <th rowspan=\"2\" valign=\"top\">0</th>\n",
       "      <th>0</th>\n",
       "      <td>253</td>\n",
       "    </tr>\n",
       "    <tr>\n",
       "      <th>1</th>\n",
       "      <td>1</td>\n",
       "    </tr>\n",
       "    <tr>\n",
       "      <th rowspan=\"2\" valign=\"top\">1</th>\n",
       "      <th>0</th>\n",
       "      <td>140</td>\n",
       "    </tr>\n",
       "    <tr>\n",
       "      <th>1</th>\n",
       "      <td>16</td>\n",
       "    </tr>\n",
       "  </tbody>\n",
       "</table>\n",
       "</div>"
      ],
      "text/plain": [
       "                                                            id\n",
       "toxic severe_toxic obscene threat insult identity_hate        \n",
       "0     0            0       0      0      0              114736\n",
       "                                         1                  40\n",
       "                                  1      0                 230\n",
       "                                         1                  22\n",
       "                           1      0      0                  20\n",
       "                                  1      0                   2\n",
       "                   1       0      0      0                 253\n",
       "                                         1                   1\n",
       "                                  1      0                 140\n",
       "                                         1                  16"
      ]
     },
     "execution_count": 15,
     "metadata": {},
     "output_type": "execute_result"
    }
   ],
   "source": [
    "df = pd.DataFrame(df)\n",
    "df.head(10)"
   ]
  },
  {
   "cell_type": "code",
   "execution_count": 16,
   "metadata": {
    "collapsed": true
   },
   "outputs": [],
   "source": [
    "df.reset_index(level=(0,1,2,3,4,5), inplace=True)"
   ]
  },
  {
   "cell_type": "code",
   "execution_count": 17,
   "metadata": {
    "collapsed": true
   },
   "outputs": [],
   "source": [
    "df = df.sort_values(by='id', ascending=False)"
   ]
  },
  {
   "cell_type": "code",
   "execution_count": 18,
   "metadata": {},
   "outputs": [
    {
     "data": {
      "text/html": [
       "<div>\n",
       "<style>\n",
       "    .dataframe thead tr:only-child th {\n",
       "        text-align: right;\n",
       "    }\n",
       "\n",
       "    .dataframe thead th {\n",
       "        text-align: left;\n",
       "    }\n",
       "\n",
       "    .dataframe tbody tr th {\n",
       "        vertical-align: top;\n",
       "    }\n",
       "</style>\n",
       "<table border=\"1\" class=\"dataframe\">\n",
       "  <thead>\n",
       "    <tr style=\"text-align: right;\">\n",
       "      <th></th>\n",
       "      <th>toxic</th>\n",
       "      <th>severe_toxic</th>\n",
       "      <th>obscene</th>\n",
       "      <th>threat</th>\n",
       "      <th>insult</th>\n",
       "      <th>identity_hate</th>\n",
       "      <th>id</th>\n",
       "    </tr>\n",
       "  </thead>\n",
       "  <tbody>\n",
       "    <tr>\n",
       "      <th>0</th>\n",
       "      <td>0</td>\n",
       "      <td>0</td>\n",
       "      <td>0</td>\n",
       "      <td>0</td>\n",
       "      <td>0</td>\n",
       "      <td>0</td>\n",
       "      <td>114736</td>\n",
       "    </tr>\n",
       "    <tr>\n",
       "      <th>12</th>\n",
       "      <td>1</td>\n",
       "      <td>0</td>\n",
       "      <td>0</td>\n",
       "      <td>0</td>\n",
       "      <td>0</td>\n",
       "      <td>0</td>\n",
       "      <td>4502</td>\n",
       "    </tr>\n",
       "    <tr>\n",
       "      <th>22</th>\n",
       "      <td>1</td>\n",
       "      <td>0</td>\n",
       "      <td>1</td>\n",
       "      <td>0</td>\n",
       "      <td>1</td>\n",
       "      <td>0</td>\n",
       "      <td>3036</td>\n",
       "    </tr>\n",
       "    <tr>\n",
       "      <th>20</th>\n",
       "      <td>1</td>\n",
       "      <td>0</td>\n",
       "      <td>1</td>\n",
       "      <td>0</td>\n",
       "      <td>0</td>\n",
       "      <td>0</td>\n",
       "      <td>1414</td>\n",
       "    </tr>\n",
       "    <tr>\n",
       "      <th>14</th>\n",
       "      <td>1</td>\n",
       "      <td>0</td>\n",
       "      <td>0</td>\n",
       "      <td>0</td>\n",
       "      <td>1</td>\n",
       "      <td>0</td>\n",
       "      <td>969</td>\n",
       "    </tr>\n",
       "  </tbody>\n",
       "</table>\n",
       "</div>"
      ],
      "text/plain": [
       "    toxic  severe_toxic  obscene  threat  insult  identity_hate      id\n",
       "0       0             0        0       0       0              0  114736\n",
       "12      1             0        0       0       0              0    4502\n",
       "22      1             0        1       0       1              0    3036\n",
       "20      1             0        1       0       0              0    1414\n",
       "14      1             0        0       0       1              0     969"
      ]
     },
     "execution_count": 18,
     "metadata": {},
     "output_type": "execute_result"
    }
   ],
   "source": [
    "df.head()"
   ]
  },
  {
   "cell_type": "code",
   "execution_count": 19,
   "metadata": {},
   "outputs": [
    {
     "data": {
      "image/png": "[encoded data removed]",
      "text/plain": [
       "<matplotlib.figure.Figure at 0x27ca675f9e8>"
      ]
     },
     "metadata": {},
     "output_type": "display_data"
    }
   ],
   "source": [
    "fig = plt.figure(figsize=(8,20))\n",
    "sns.heatmap(df[['toxic', 'severe_toxic', 'obscene', 'threat', 'insult', 'identity_hate']], \n",
    "            yticklabels=df['id'],\n",
    "            linecolor='white', \n",
    "            linewidth=1, cbar=False)\n",
    "plt.yticks(rotation=0)\n",
    "plt.show()"
   ]
  },
  {
   "cell_type": "markdown",
   "metadata": {},
   "source": [
    "**Comment's length - words**"
   ]
  },
  {
   "cell_type": "code",
   "execution_count": 20,
   "metadata": {},
   "outputs": [
    {
     "name": "stdout",
     "output_type": "stream",
     "text": [
      "[nltk_data] Downloading package punkt to\n",
      "[nltk_data]     C:\\Users\\ishay\\AppData\\Roaming\\nltk_data...\n",
      "[nltk_data]   Package punkt is already up-to-date!\n"
     ]
    },
    {
     "data": {
      "text/plain": [
       "True"
      ]
     },
     "execution_count": 20,
     "metadata": {},
     "output_type": "execute_result"
    }
   ],
   "source": [
    "# Didn't worked in floydhub without this:\n",
    "import nltk\n",
    "nltk.download('punkt')"
   ]
  },
  {
   "cell_type": "code",
   "execution_count": 21,
   "metadata": {},
   "outputs": [
    {
     "name": "stderr",
     "output_type": "stream",
     "text": [
      "C:\\Users\\ishay\\Anaconda3\\lib\\site-packages\\ipykernel_launcher.py:6: SettingWithCopyWarning: \n",
      "A value is trying to be set on a copy of a slice from a DataFrame.\n",
      "Try using .loc[row_indexer,col_indexer] = value instead\n",
      "\n",
      "See the caveats in the documentation: http://pandas.pydata.org/pandas-docs/stable/indexing.html#indexing-view-versus-copy\n",
      "  \n"
     ]
    }
   ],
   "source": [
    "# Now I am checking the length of the comments\n",
    "def count_word(text):\n",
    "    tokenixed = word_tokenize(text)\n",
    "    return len(tokenixed)\n",
    "# Creating a column with the number of words\n",
    "train_data[\"n_words\"] = train_data[\"comment_text\"].apply(count_word)"
   ]
  },
  {
   "cell_type": "code",
   "execution_count": 22,
   "metadata": {
    "collapsed": true
   },
   "outputs": [],
   "source": [
    "# def count_sent(text):\n",
    "#     tokenixed = sent_tokenize(text)\n",
    "#     return len(tokenixed)\n",
    "\n",
    "# train_data[\"n_sent\"] = train_data[\"comment_text\"].apply(count_sent)"
   ]
  },
  {
   "cell_type": "code",
   "execution_count": 23,
   "metadata": {},
   "outputs": [
    {
     "data": {
      "text/html": [
       "<div>\n",
       "<style>\n",
       "    .dataframe thead tr:only-child th {\n",
       "        text-align: right;\n",
       "    }\n",
       "\n",
       "    .dataframe thead th {\n",
       "        text-align: left;\n",
       "    }\n",
       "\n",
       "    .dataframe tbody tr th {\n",
       "        vertical-align: top;\n",
       "    }\n",
       "</style>\n",
       "<table border=\"1\" class=\"dataframe\">\n",
       "  <thead>\n",
       "    <tr style=\"text-align: right;\">\n",
       "      <th></th>\n",
       "      <th>id</th>\n",
       "      <th>comment_text</th>\n",
       "      <th>toxic</th>\n",
       "      <th>severe_toxic</th>\n",
       "      <th>obscene</th>\n",
       "      <th>threat</th>\n",
       "      <th>insult</th>\n",
       "      <th>identity_hate</th>\n",
       "      <th>n_words</th>\n",
       "    </tr>\n",
       "  </thead>\n",
       "  <tbody>\n",
       "    <tr>\n",
       "      <th>157279</th>\n",
       "      <td>db5b4c7e09a2e9d4</td>\n",
       "      <td>\"\\n\\nHmmm, the work of Polish proffesors is no...</td>\n",
       "      <td>0</td>\n",
       "      <td>0</td>\n",
       "      <td>0</td>\n",
       "      <td>0</td>\n",
       "      <td>0</td>\n",
       "      <td>0</td>\n",
       "      <td>20</td>\n",
       "    </tr>\n",
       "    <tr>\n",
       "      <th>1259</th>\n",
       "      <td>03624b38905d611f</td>\n",
       "      <td>Why I'm talking to you?</td>\n",
       "      <td>0</td>\n",
       "      <td>0</td>\n",
       "      <td>0</td>\n",
       "      <td>0</td>\n",
       "      <td>0</td>\n",
       "      <td>0</td>\n",
       "      <td>7</td>\n",
       "    </tr>\n",
       "    <tr>\n",
       "      <th>1562</th>\n",
       "      <td>043411a0a4d61e95</td>\n",
       "      <td>Dueling unit costs\\n\\nI've removed the dueling...</td>\n",
       "      <td>0</td>\n",
       "      <td>0</td>\n",
       "      <td>0</td>\n",
       "      <td>0</td>\n",
       "      <td>0</td>\n",
       "      <td>0</td>\n",
       "      <td>79</td>\n",
       "    </tr>\n",
       "    <tr>\n",
       "      <th>95532</th>\n",
       "      <td>ff71d44c20144c8d</td>\n",
       "      <td>\"\\n\\nOkay, let's settle this\\nLook above, at t...</td>\n",
       "      <td>0</td>\n",
       "      <td>0</td>\n",
       "      <td>0</td>\n",
       "      <td>0</td>\n",
       "      <td>0</td>\n",
       "      <td>0</td>\n",
       "      <td>166</td>\n",
       "    </tr>\n",
       "    <tr>\n",
       "      <th>104452</th>\n",
       "      <td>2ecc07eaf7e735b0</td>\n",
       "      <td>\"\\nYou have been asked to explain what is POV ...</td>\n",
       "      <td>0</td>\n",
       "      <td>0</td>\n",
       "      <td>0</td>\n",
       "      <td>0</td>\n",
       "      <td>0</td>\n",
       "      <td>0</td>\n",
       "      <td>22</td>\n",
       "    </tr>\n",
       "  </tbody>\n",
       "</table>\n",
       "</div>"
      ],
      "text/plain": [
       "                      id                                       comment_text  \\\n",
       "157279  db5b4c7e09a2e9d4  \"\\n\\nHmmm, the work of Polish proffesors is no...   \n",
       "1259    03624b38905d611f                            Why I'm talking to you?   \n",
       "1562    043411a0a4d61e95  Dueling unit costs\\n\\nI've removed the dueling...   \n",
       "95532   ff71d44c20144c8d  \"\\n\\nOkay, let's settle this\\nLook above, at t...   \n",
       "104452  2ecc07eaf7e735b0  \"\\nYou have been asked to explain what is POV ...   \n",
       "\n",
       "        toxic  severe_toxic  obscene  threat  insult  identity_hate  n_words  \n",
       "157279      0             0        0       0       0              0       20  \n",
       "1259        0             0        0       0       0              0        7  \n",
       "1562        0             0        0       0       0              0       79  \n",
       "95532       0             0        0       0       0              0      166  \n",
       "104452      0             0        0       0       0              0       22  "
      ]
     },
     "execution_count": 23,
     "metadata": {},
     "output_type": "execute_result"
    }
   ],
   "source": [
    "train_data.head()"
   ]
  },
  {
   "cell_type": "markdown",
   "metadata": {},
   "source": [
    "First I want to examine the optimal length of the comment input (the size of each comment to be used for the model) for padding."
   ]
  },
  {
   "cell_type": "code",
   "execution_count": 24,
   "metadata": {},
   "outputs": [
    {
     "data": {
      "text/plain": [
       "Text(0.5,0,'Nuber of words per comment')"
      ]
     },
     "execution_count": 24,
     "metadata": {},
     "output_type": "execute_result"
    },
    {
     "data": {
      "image/png": "[encoded data removed]",
      "text/plain": [
       "<matplotlib.figure.Figure at 0x27ca961d0b8>"
      ]
     },
     "metadata": {},
     "output_type": "display_data"
    }
   ],
   "source": [
    "plt.figure(figsize=(12,4))\n",
    "train_data[\"n_words\"].hist(bins=200)\n",
    "plt.title(\"Number of words histogram\")\n",
    "plt.ylabel(\"Frequency\")\n",
    "plt.xlabel(\"Nuber of words per comment\")"
   ]
  },
  {
   "cell_type": "markdown",
   "metadata": {},
   "source": [
    "I can see that there are posts (not many) that are very long (up to 5000 words). Or the other hand. The mass of the postsquite short. I need to zoom in."
   ]
  },
  {
   "cell_type": "code",
   "execution_count": 25,
   "metadata": {},
   "outputs": [
    {
     "data": {
      "text/plain": [
       "Text(0.5,0,'Nuber of words per comment')"
      ]
     },
     "execution_count": 25,
     "metadata": {},
     "output_type": "execute_result"
    },
    {
     "data": {
      "image/png": "[encoded data removed]",
      "text/plain": [
       "<matplotlib.figure.Figure at 0x27ca963a278>"
      ]
     },
     "metadata": {},
     "output_type": "display_data"
    }
   ],
   "source": [
    "# Now zoom in up to 1000\n",
    "plt.figure(figsize=(12,4))\n",
    "train_data[\"n_words\"].hist(bins=400)\n",
    "plt.xlim(0,1000)\n",
    "plt.title(\"Number of words histogram - zoom in up to 1000\")\n",
    "plt.ylabel(\"Frequency\")\n",
    "plt.xlabel(\"Nuber of words per comment\")"
   ]
  },
  {
   "cell_type": "markdown",
   "metadata": {},
   "source": [
    "I can use a length of 200 for padding. This cover the majority of hte text."
   ]
  },
  {
   "cell_type": "code",
   "execution_count": 26,
   "metadata": {
    "collapsed": true
   },
   "outputs": [],
   "source": [
    "# Define the number of words per comment\n",
    "max_len = 200"
   ]
  },
  {
   "cell_type": "code",
   "execution_count": 27,
   "metadata": {},
   "outputs": [
    {
     "data": {
      "text/plain": [
       "Text(0.5,0,'Nuber of words per comment')"
      ]
     },
     "execution_count": 27,
     "metadata": {},
     "output_type": "execute_result"
    },
    {
     "data": {
      "image/png": "[encoded data removed]",
      "text/plain": [
       "<matplotlib.figure.Figure at 0x27cb47d2080>"
      ]
     },
     "metadata": {},
     "output_type": "display_data"
    }
   ],
   "source": [
    "# Checking what is beyond 1000 words by scaling the y axis\n",
    "plt.figure(figsize=(12,4))\n",
    "train_data[\"n_words\"].hist(bins=200)\n",
    "plt.yscale('log', nonposy='clip')\n",
    "plt.title(\"Number of words histogram - logarithmic y axis\")\n",
    "plt.ylabel(\"Frequency(log)\")\n",
    "plt.xlabel(\"Nuber of words per comment\")"
   ]
  },
  {
   "cell_type": "code",
   "execution_count": 28,
   "metadata": {},
   "outputs": [
    {
     "name": "stdout",
     "output_type": "stream",
     "text": [
      "Median no. of words: 43.0\n",
      "Mean no. of words: 80.3081641285956\n"
     ]
    }
   ],
   "source": [
    "# Get a sense of the comments length by the mean and median\n",
    "print(\"Median no. of words:\", train_data['n_words'].median())\n",
    "print(\"Mean no. of words:\", train_data['n_words'].mean())"
   ]
  },
  {
   "cell_type": "markdown",
   "metadata": {},
   "source": [
    "Second thing I want to examone if there is a difference in length between a toxic comment (of all kinds) and a non-toxic one."
   ]
  },
  {
   "cell_type": "code",
   "execution_count": 29,
   "metadata": {},
   "outputs": [
    {
     "data": {
      "image/png": "[encoded data removed]",
      "text/plain": [
       "<matplotlib.figure.Figure at 0x27cb5059f60>"
      ]
     },
     "metadata": {},
     "output_type": "display_data"
    }
   ],
   "source": [
    "fig = plt.figure(figsize=(14,7))\n",
    "for label, i in zip(label_headers_list, range(1,7)): \n",
    "    # I need to start the range from 1 because the add_subpolt takes values larger than 1\n",
    "    # Calculating mean and std for only negative and only positive comment for each category (label) \n",
    "    mean_negative = train_data['n_words'][train_data[label] == 0].median()\n",
    "    std_negative = train_data['n_words'][train_data[label] == 0].std()\n",
    "    mean_positive = train_data['n_words'][train_data[label] == 1].median()\n",
    "    std_positive = train_data['n_words'][train_data[label] == 1].std()\n",
    "    # plotting\n",
    "    ax=fig.add_subplot(2,3,i)\n",
    "    ax.plot(1, mean_negative, \".\" , ms=20, c='g', label = 'neg')\n",
    "    ax.plot(2, mean_positive, \".\" , ms=20, c='r', label = 'pos')\n",
    "    ax.plot((1,1), (mean_negative-std_negative, mean_negative+std_negative), c='g')\n",
    "    ax.plot((2,2), (mean_positive-std_positive, mean_positive+std_positive), c='r')\n",
    "    ax.set_xlim(0,3)\n",
    "    ax.set_ylim(0,max(mean_negative+std_negative, mean_positive+std_positive)+80)\n",
    "    ax.set_title('Average no. of words \"{}\"'.format(label))\n",
    "    ax.set_xticklabels(\"\")\n",
    "    ax.set_ylabel(\"No. of Words\")\n",
    "    ax.legend()"
   ]
  },
  {
   "cell_type": "markdown",
   "metadata": {},
   "source": [
    "The difference between positive and negative comments is not significant in terms of the no. of words"
   ]
  },
  {
   "cell_type": "markdown",
   "metadata": {},
   "source": [
    "## **Examining Text**"
   ]
  },
  {
   "cell_type": "markdown",
   "metadata": {},
   "source": [
    "**General**"
   ]
  },
  {
   "cell_type": "markdown",
   "metadata": {},
   "source": [
    "The purpose of this section is to see what kind of cleaning / preprocessing I need to do. In addition, I am trying to see what characterizes each category."
   ]
  },
  {
   "cell_type": "code",
   "execution_count": 30,
   "metadata": {},
   "outputs": [
    {
     "name": "stdout",
     "output_type": "stream",
     "text": [
      "\"\n",
      "\n",
      "Okay, let's settle this\n",
      "Look above, at the section titled \"\"Peter and the 4th Grade.\"\"  The response to that question is, and I quote, \"\"No because it is just a joke. Using throwaway comments or jokes as a source of information is specifically mentioned as something to avoid in Manual of Style (writing about fiction).\"\"\n",
      "\n",
      "The gag about creationists being stupider than retards is only a throwaway gag in the episode Petarded, and is never even spoken orally, only written on a cardboard sign.  Therefore, it doesn't belong here.!  If it were a recurring gag, like that of Ernie the Giant Chicken, then it would belong, but it only makes a cameo appearance in one episode, and therefore is not notable enough to be included anywhere but the cultural references section of the Petarded article.\"\n"
     ]
    }
   ],
   "source": [
    "print(train_data.iloc[3,1])"
   ]
  },
  {
   "cell_type": "code",
   "execution_count": 31,
   "metadata": {},
   "outputs": [
    {
     "name": "stdout",
     "output_type": "stream",
     "text": [
      "Is this your Horse?\n",
      "\n",
      " and its erect penis]]\n"
     ]
    }
   ],
   "source": [
    "print(train_data.iloc[7,1])"
   ]
  },
  {
   "cell_type": "code",
   "execution_count": 32,
   "metadata": {},
   "outputs": [
    {
     "name": "stdout",
     "output_type": "stream",
     "text": [
      "HMS Loch Killisport \n",
      "\n",
      "I thought Prince Philip was an Officer on the HMS Loch Killisport an the end of 1945 bringing  surviving POW's from Java to Singapore ??? We were on that ship then too.\n",
      "\n",
      "Can somebody confirm Prince Philip served on HMS Loch Killisport ??\n",
      "\n",
      "  \n",
      "GLemmens1940\n"
     ]
    }
   ],
   "source": [
    "print(train_data.iloc[8,1])"
   ]
  },
  {
   "cell_type": "code",
   "execution_count": 33,
   "metadata": {},
   "outputs": [
    {
     "name": "stdout",
     "output_type": "stream",
     "text": [
      "YOU FUCKERS THINK YOU CAN STOP ME, YOU REALLY THINK SO. WELL NIGGER FAGS I AM ON THE SIDE OF WIKIPEDIA VANDALS AND I WILL TEL YOU SOMETHING. TONIGHT AT ABOUT 9:30 I WILL VANDALIZE THE THE PAGES OF EVERYONE THAT HAS REVERTED MY VANDALISM OR ADDED THIS TWO WEEK BLOCK TO ME. iF YOU WANT TO FIND OUT WHO THAT WILL BE...JUST CHECK THE 'HISTORY' SECTION OF MY PAGE TO SEE THE NAMES. WHEN I DO VANDALIZE YOU TONIGHT I WILL COMMENT ON HOS I TOLD YOU I WAS GOING TO DO IT. SO IF YOU EDITED MY PAGE TODAY OR IF YOU ARE ONE OF THE PEOPLE THAT DAIS THEY WOULD 'WATCH' MY PAGE TO SEE IF I AM VANDALIZING...THEN GET READY TO HAVE YOUR SHIT CRUSHED YOU NIGGERS. YOU CANT STOP ME. SEE YOU TONIGHT AT 930 NIAGETTY FAGGET CUNTS.\n"
     ]
    }
   ],
   "source": [
    "# Capital letters\n",
    "print(train_data.iloc[11,1])"
   ]
  },
  {
   "cell_type": "code",
   "execution_count": 34,
   "metadata": {},
   "outputs": [
    {
     "name": "stdout",
     "output_type": "stream",
     "text": [
      "\"|decline=When your block is over, you should show your willingness and ability to edit productively.  —  (talk · contribs) }}\n",
      "Even if you don't like my response, you are not allowed to simply revert it; if you want to request a second review, you may place the request below my response to your first request. - (talk · contribs) \"\n"
     ]
    }
   ],
   "source": [
    "# Various marks\n",
    "print(train_data.iloc[14,1])"
   ]
  },
  {
   "cell_type": "code",
   "execution_count": 35,
   "metadata": {},
   "outputs": [
    {
     "name": "stdout",
     "output_type": "stream",
     "text": [
      "\"\n",
      "\n",
      " Edit request from Drumking, 28 July 2011 \n",
      "\n",
      "In the section http://en.wikipedia.org/wiki/Israel#Conflicts_and_peace_treaties,\n",
      "the link to the \"\"Sabra and shatila camp massacre\"\" is broken, most likely the name is obsolete.\n",
      "\n",
      "The link should be to http://en.wikipedia.org/wiki/Sabra_and_Shatila_massacre\n",
      "\n",
      "  \"\n"
     ]
    }
   ],
   "source": [
    "# Links\n",
    "print(train_data.iloc[16,1])"
   ]
  },
  {
   "cell_type": "code",
   "execution_count": 36,
   "metadata": {
    "collapsed": true
   },
   "outputs": [],
   "source": [
    "# # Smilies :)\n",
    "# word_tokenize(train_data.iloc[17,1])"
   ]
  },
  {
   "cell_type": "code",
   "execution_count": 37,
   "metadata": {},
   "outputs": [
    {
     "name": "stdout",
     "output_type": "stream",
     "text": [
      "Advice requested\n",
      "Hi E8, I am fairly new here, and would welcome some advice on an issue.  I have been doing some work on supercritical fluid articles, and just noticed a new Super critical carbon dioxide.  There is already a Supercritical carbon dioxide and a supercritical fluid.  this new addition basically takes a chunk of the Supercritical fluid article, and prefaces it with CO2 in carbon capture and storage.  Now whilst CCS is important, this new article fragments the coverage too far, IMO.  I had in mind replacing the Supercritical CO2  with a re-direct to supercritical fluids anyway.  How do I go about raising this for attention?  Thanks for any assistance you can give.\n"
     ]
    }
   ],
   "source": [
    "# Many acronyms\n",
    "print(train_data.iloc[41,1])"
   ]
  },
  {
   "cell_type": "code",
   "execution_count": 38,
   "metadata": {},
   "outputs": [
    {
     "name": "stdout",
     "output_type": "stream",
     "text": [
      "\"\n",
      "Between when I left the request and when you replied here you've made 6 edits to 3 articles, including 3 edits to The Real Housewives of Orange County. It does not matter that the table \"\"has been there the longest\"\". If it doesn't comply with our policies and guidelines it needs to be fixed, not left in a non-compliant format. I am clearly not the only one complaining about the table. Numerous editors have attempted to change this and similar tables at various articles and you've reverted them without explanation. That's edit-warring, which can result in you being blocked from editing. There's even a Request for Comment open at WT:TV. However, even if I was the only one complaining, that's irrelevant. It just happens that I noticed the lack of compliance. Removing bolding from the table is simply not enough; the table needs to fully comply, which means incorporating row and column scopes, plainrowheaders, and fixing capitalisation problems as a minimum. There are numerous errors in the table that should also be fixed. You're obvioulsy aware of the existence of errors as you have fixed some yourself. As for being \"\"easier to understand, easier to read, catches the eye better\"\", the two tables are almost visually identical, so those are not valid reasons. The only visual differences are the capitalisation and column width fixes and better compliance with MOS:COLOR. From an editorial standpoint, the compliant table is much easier to read and update. That's why a similarly formatted table was removed from American Idol and a note left on your page by another editor.  (✉) \"\n"
     ]
    }
   ],
   "source": [
    "print(train_data.iloc[63,1])"
   ]
  },
  {
   "cell_type": "markdown",
   "metadata": {},
   "source": [
    "**Examining \"toxic\" comments**"
   ]
  },
  {
   "cell_type": "code",
   "execution_count": 39,
   "metadata": {
    "collapsed": true
   },
   "outputs": [],
   "source": [
    "toxic_data = train_data[train_data[\"toxic\"] == 1]"
   ]
  },
  {
   "cell_type": "code",
   "execution_count": 40,
   "metadata": {},
   "outputs": [
    {
     "data": {
      "text/plain": [
       "'Is this your Horse?\\n\\n and its erect penis]]'"
      ]
     },
     "execution_count": 40,
     "metadata": {},
     "output_type": "execute_result"
    }
   ],
   "source": [
    "toxic_data.iloc[0,1]"
   ]
  },
  {
   "cell_type": "code",
   "execution_count": 41,
   "metadata": {},
   "outputs": [
    {
     "data": {
      "text/plain": [
       "'Destroing his eyes \\n\\nI will destroy your eyes.'"
      ]
     },
     "execution_count": 41,
     "metadata": {},
     "output_type": "execute_result"
    }
   ],
   "source": [
    "toxic_data.iloc[100,1]"
   ]
  },
  {
   "cell_type": "code",
   "execution_count": 42,
   "metadata": {},
   "outputs": [
    {
     "data": {
      "text/plain": [
       "\"I didn't want to vandalise the 1961 F-84 Thunderstreak incident. Have you understood dirty fucking jew.37.99.254.141\""
      ]
     },
     "execution_count": 42,
     "metadata": {},
     "output_type": "execute_result"
    }
   ],
   "source": [
    "toxic_data.iloc[101,1]"
   ]
  },
  {
   "cell_type": "code",
   "execution_count": 43,
   "metadata": {},
   "outputs": [
    {
     "data": {
      "text/plain": [
       "'\"Honestly, that was not \"\"threats of harassment\"\", maybe it sounds like it... but you don\\'t know about the actual situation and what happened in the past. GVnayR is a very \"\"dangerous\"\" Wikipedian, I can deepen it. I\\'m editing Wikipedia since 2010 and I can say that he is the lamest, weirdest, most \"\"dangerous\"\", etc. In my opinion being blocked indefinitely because of this is not fair (1~2 months is more fair). Sadly, blocking this user Hydao (who always fought against vandalism and addition of nonsense things) will not solve the problem. Sooner, the user GVnayR will start adding completely stupid and nonsense things on Wikipedia, which is unacceptable. I will continue fighting against vandalism and nonsense stuff (added by losers/nolifers like GVnayR), with or without \"\"Hydao\"\". Now you are thinking: \"\"Hydao, you are insulting a user by calling \"\"loser and no-lifer\"\", but that\\'s not an insult, it\\'s just the reality. A high-functioning autistic who doesn\\'t work, doesn\\'t have a job, doesn\\'t have friends, use the government pension to buy PlayStation games and pay the Internet bill, someone who spend his days/months/years doing NOTHING useful (except making frequently STUPID edits on Wikipedia and wasting other ppl PRECIOUS time...) is a big loser who needs a LIFE LESSON. I don\\'t mind if this \"\"Hydao\"\" is blocked, the only thing I know is that GVnayR needs an \"\"ULTIMATE LESSON\"\". Well, at least I can say that Hydao \"\"died\"\" or is \"\"dying\"\" for a decent/noble cause.\"'"
      ]
     },
     "execution_count": 43,
     "metadata": {},
     "output_type": "execute_result"
    }
   ],
   "source": [
    "# 'don\\'t.... I\\'m... doesn\\'t\n",
    "toxic_data.iloc[102,1]"
   ]
  },
  {
   "cell_type": "code",
   "execution_count": 44,
   "metadata": {},
   "outputs": [
    {
     "data": {
      "text/plain": [
       "'( \\n\\nwtf stop deleting my stuff! you have a first grade education!@$$hole'"
      ]
     },
     "execution_count": 44,
     "metadata": {},
     "output_type": "execute_result"
    }
   ],
   "source": [
    "toxic_data.iloc[103,1]"
   ]
  },
  {
   "cell_type": "code",
   "execution_count": 45,
   "metadata": {},
   "outputs": [
    {
     "data": {
      "text/plain": [
       "'thanks for watching wiki raid threads and ruining fun, dick faggot\\nthanks for watching wiki raid threads and ruining fun, dick faggot\\nthanks for watching wiki raid threads and ruining fun, dick faggot\\nthanks for watching wiki raid threads and ruining fun, dick faggot\\nthanks for watching wiki raid th'"
      ]
     },
     "execution_count": 45,
     "metadata": {},
     "output_type": "execute_result"
    }
   ],
   "source": [
    "toxic_data.iloc[106,1][:300]"
   ]
  },
  {
   "cell_type": "markdown",
   "metadata": {},
   "source": [
    "**Examinig \"severe_toxic\" comments**"
   ]
  },
  {
   "cell_type": "code",
   "execution_count": 46,
   "metadata": {
    "collapsed": true
   },
   "outputs": [],
   "source": [
    "severe_toxic_data = train_data[train_data[\"severe_toxic\"] == 1]"
   ]
  },
  {
   "cell_type": "code",
   "execution_count": 47,
   "metadata": {},
   "outputs": [
    {
     "data": {
      "text/plain": [
       "'fuck you bitch. and fuck you lousy and misleading wikipedia:chemtrail page'"
      ]
     },
     "execution_count": 47,
     "metadata": {},
     "output_type": "execute_result"
    }
   ],
   "source": [
    "# ':' and other sibmols separate words\n",
    "severe_toxic_data.iloc[50,1]"
   ]
  },
  {
   "cell_type": "code",
   "execution_count": 48,
   "metadata": {},
   "outputs": [
    {
     "data": {
      "text/plain": [
       "'YOU ARE A MOTHJER FUCKER COCKSUCKER! YOU ARE A MOTHJER FUCKER COCKSUCKER!YOU ARE A MOTHJER FUCKER COCKSUCKER! YOU ARE A MOTHJER FUCKER COCKSUCKER! YOU ARE A MOTHJER FUCKER COCKSUCKER! YOU ARE A MOTHJE'"
      ]
     },
     "execution_count": 48,
     "metadata": {},
     "output_type": "execute_result"
    }
   ],
   "source": [
    "severe_toxic_data.iloc[51,1][:200]"
   ]
  },
  {
   "cell_type": "code",
   "execution_count": 49,
   "metadata": {},
   "outputs": [
    {
     "data": {
      "text/plain": [
       "'\"\\n\\n Fuck you, cunt!!!!!!!!!!!!!!!!!!!!! \\n\\ntry these important things and maybe you won\\'t be such a sucker motherfucker:\\n\\n1. Learn how to spell. If things remain as they are, everyone is bound to consi'"
      ]
     },
     "execution_count": 49,
     "metadata": {},
     "output_type": "execute_result"
    }
   ],
   "source": [
    "severe_toxic_data.iloc[52,1][:200]"
   ]
  },
  {
   "cell_type": "code",
   "execution_count": 50,
   "metadata": {},
   "outputs": [
    {
     "data": {
      "text/plain": [
       "\"Halcy \\n\\nSeems like you get mad alot. Want me to call the WAAAAAMBULANCE for you? Want some dick (extra small) with that too, bitch? U mad? butthurt? I bet you're having an orgy with MeetTheMedic and MeepTheSheep, aren't you? You three would make a good threesome. You're all reject 4-Chan trolls that became admins on another website to have Unwarranted Self Importance while you spam faggot and dick all day. Seems like you enjoy that kind of stuff. I had no idea, really. \\n\\nTL;DR: U mad?\""
      ]
     },
     "execution_count": 50,
     "metadata": {},
     "output_type": "execute_result"
    }
   ],
   "source": [
    "severe_toxic_data.iloc[53,1]"
   ]
  },
  {
   "cell_type": "code",
   "execution_count": 51,
   "metadata": {},
   "outputs": [
    {
     "data": {
      "text/plain": [
       "\"Hey John, it wasn't a fucking test moron\""
      ]
     },
     "execution_count": 51,
     "metadata": {},
     "output_type": "execute_result"
    }
   ],
   "source": [
    "severe_toxic_data.iloc[55,1]"
   ]
  },
  {
   "cell_type": "code",
   "execution_count": 52,
   "metadata": {},
   "outputs": [
    {
     "data": {
      "text/plain": [
       "'i dont lambs12 \\n\\nwikipedia sucks ass pussy in the dick i dont give a pussy fuck about lambs12 bitch nigger asshole cock  retyc'"
      ]
     },
     "execution_count": 52,
     "metadata": {},
     "output_type": "execute_result"
    }
   ],
   "source": [
    "severe_toxic_data.iloc[56,1]"
   ]
  },
  {
   "cell_type": "code",
   "execution_count": 53,
   "metadata": {},
   "outputs": [
    {
     "data": {
      "text/plain": [
       "'You are a fucking cunt and I am going to track you down fuck head piece of shit.'"
      ]
     },
     "execution_count": 53,
     "metadata": {},
     "output_type": "execute_result"
    }
   ],
   "source": [
    "severe_toxic_data.iloc[57,1]"
   ]
  },
  {
   "cell_type": "markdown",
   "metadata": {},
   "source": [
    "**Examining \"obscene\" comments**"
   ]
  },
  {
   "cell_type": "code",
   "execution_count": 54,
   "metadata": {
    "collapsed": true
   },
   "outputs": [],
   "source": [
    "obscene_toxic_data = train_data[train_data[\"obscene\"] == 1]"
   ]
  },
  {
   "cell_type": "code",
   "execution_count": 55,
   "metadata": {},
   "outputs": [
    {
     "data": {
      "text/plain": [
       "'Jerk\\nIll shwo you idiot! I will finish your life you idiot! For the last time! There is NO name to the Cathedral! That is it! Do uyou understand?'"
      ]
     },
     "execution_count": 55,
     "metadata": {},
     "output_type": "execute_result"
    }
   ],
   "source": [
    "obscene_toxic_data.iloc[30,1]"
   ]
  },
  {
   "cell_type": "code",
   "execution_count": 56,
   "metadata": {},
   "outputs": [
    {
     "data": {
      "text/plain": [
       "'FUCK YOU \\n\\n70.17.2.2 Forever'"
      ]
     },
     "execution_count": 56,
     "metadata": {},
     "output_type": "execute_result"
    }
   ],
   "source": [
    "obscene_toxic_data.iloc[31,1]"
   ]
  },
  {
   "cell_type": "code",
   "execution_count": 57,
   "metadata": {},
   "outputs": [
    {
     "data": {
      "text/plain": [
       "id                             1cc84b340259d6c6\n",
       "comment_text     FUCK YOU \\n\\n70.17.2.2 Forever\n",
       "toxic                                         1\n",
       "severe_toxic                                  1\n",
       "obscene                                       1\n",
       "threat                                        0\n",
       "insult                                        1\n",
       "identity_hate                                 0\n",
       "n_words                                       4\n",
       "Name: 10892, dtype: object"
      ]
     },
     "execution_count": 57,
     "metadata": {},
     "output_type": "execute_result"
    }
   ],
   "source": [
    "# This one is also a severe_toxic and an insult\n",
    "obscene_toxic_data.iloc[31,:]"
   ]
  },
  {
   "cell_type": "code",
   "execution_count": 58,
   "metadata": {},
   "outputs": [
    {
     "data": {
      "text/plain": [
       "'Where do you get off deleting that? it took me ages to do and you jus come and delete it, all the while leaving your shitty MTV bollox up, you fucking Americans are nothing but a bunch of fucking hicks. Your presidents a fucking redneck hick and I cant wait to see the day when that bastard gets a nuke up his arse!!!'"
      ]
     },
     "execution_count": 58,
     "metadata": {},
     "output_type": "execute_result"
    }
   ],
   "source": [
    "obscene_toxic_data.iloc[32,1]"
   ]
  },
  {
   "cell_type": "code",
   "execution_count": 59,
   "metadata": {},
   "outputs": [
    {
     "data": {
      "text/plain": [
       "'and suck a dick two times every hour until sunrise'"
      ]
     },
     "execution_count": 59,
     "metadata": {},
     "output_type": "execute_result"
    }
   ],
   "source": [
    "obscene_toxic_data.iloc[33,1]"
   ]
  },
  {
   "cell_type": "code",
   "execution_count": 60,
   "metadata": {},
   "outputs": [
    {
     "data": {
      "text/plain": [
       "id                                                0e7bf095144c3b75\n",
       "comment_text     and suck a dick two times every hour until sun...\n",
       "toxic                                                            1\n",
       "severe_toxic                                                     0\n",
       "obscene                                                          1\n",
       "threat                                                           0\n",
       "insult                                                           1\n",
       "identity_hate                                                    0\n",
       "n_words                                                         10\n",
       "Name: 5431, dtype: object"
      ]
     },
     "execution_count": 60,
     "metadata": {},
     "output_type": "execute_result"
    }
   ],
   "source": [
    "# This one is also an insult\n",
    "obscene_toxic_data.iloc[33,:]"
   ]
  },
  {
   "cell_type": "code",
   "execution_count": 61,
   "metadata": {},
   "outputs": [
    {
     "data": {
      "text/plain": [
       "'Whoever wrote the comment above, u r my Fuckin HERO!!!!!!!!!!!! WOOOOO! Rock on!'"
      ]
     },
     "execution_count": 61,
     "metadata": {},
     "output_type": "execute_result"
    }
   ],
   "source": [
    "obscene_toxic_data.iloc[34,1]"
   ]
  },
  {
   "cell_type": "code",
   "execution_count": 62,
   "metadata": {},
   "outputs": [
    {
     "data": {
      "text/plain": [
       "'fuck you you dumb motherfucking asshole how dare you son of a bitch fucking lock me out you worthless asshole I hate your guts go to hell you have not seen the last of me I will continue to harass you you piece of shit evryday and screw oregon bitch!'"
      ]
     },
     "execution_count": 62,
     "metadata": {},
     "output_type": "execute_result"
    }
   ],
   "source": [
    "obscene_toxic_data.iloc[35,1]"
   ]
  },
  {
   "cell_type": "markdown",
   "metadata": {},
   "source": [
    "**Examining \"threat\" comments**"
   ]
  },
  {
   "cell_type": "code",
   "execution_count": 63,
   "metadata": {
    "collapsed": true
   },
   "outputs": [],
   "source": [
    "threat_toxic_data = train_data[train_data[\"threat\"] == 1]"
   ]
  },
  {
   "cell_type": "code",
   "execution_count": 64,
   "metadata": {},
   "outputs": [
    {
     "data": {
      "text/plain": [
       "'I like you \\n\\nI kill you last.'"
      ]
     },
     "execution_count": 64,
     "metadata": {},
     "output_type": "execute_result"
    }
   ],
   "source": [
    "threat_toxic_data.iloc[50,1]"
   ]
  },
  {
   "cell_type": "code",
   "execution_count": 65,
   "metadata": {},
   "outputs": [
    {
     "data": {
      "text/plain": [
       "\"Bertie, You're A Stupid Ignorant Cunt !!\\n\\nDo Humanity a favor and follow in Di's footsteps. Fuck Off and Die..........\""
      ]
     },
     "execution_count": 65,
     "metadata": {},
     "output_type": "execute_result"
    }
   ],
   "source": [
    "threat_toxic_data.iloc[51,1]"
   ]
  },
  {
   "cell_type": "code",
   "execution_count": 66,
   "metadata": {},
   "outputs": [
    {
     "data": {
      "text/plain": [
       "'I am going to kill you. I am going to murder you. I am going to kill you. I am going to murder you. I am going to kill you. I am going to murder you. I am going to kill you. I am going to murder you. '"
      ]
     },
     "execution_count": 66,
     "metadata": {},
     "output_type": "execute_result"
    }
   ],
   "source": [
    "threat_toxic_data.iloc[52,1][:200]"
   ]
  },
  {
   "cell_type": "code",
   "execution_count": 67,
   "metadata": {},
   "outputs": [
    {
     "data": {
      "text/plain": [
       "'SHUT UP, YOU FAT POOP, OR I WILL KICK YOUR ASS!!!'"
      ]
     },
     "execution_count": 67,
     "metadata": {},
     "output_type": "execute_result"
    }
   ],
   "source": [
    "threat_toxic_data.iloc[53,1]"
   ]
  },
  {
   "cell_type": "code",
   "execution_count": 68,
   "metadata": {},
   "outputs": [
    {
     "data": {
      "text/plain": [
       "\"Hi, fuckwit. You do know that by blocking me you are violating basic human rights and freedom of expression. And by you deleting my rant is just plain ridicilous. That just proves that all you are is a bunch of fascist douche bags that should've been bombed to death in WWII. Now, please kindly fuck off? thank you.\""
      ]
     },
     "execution_count": 68,
     "metadata": {},
     "output_type": "execute_result"
    }
   ],
   "source": [
    "threat_toxic_data.iloc[54,1]"
   ]
  },
  {
   "cell_type": "code",
   "execution_count": 69,
   "metadata": {},
   "outputs": [
    {
     "data": {
      "text/plain": [
       "'FUCK YOU \\n\\nYOU ARE THE BIGGEST PIG ON THE PLANET.\\n\\nDIE IN HELL ASSHOLE!'"
      ]
     },
     "execution_count": 69,
     "metadata": {},
     "output_type": "execute_result"
    }
   ],
   "source": [
    "threat_toxic_data.iloc[55,1]"
   ]
  },
  {
   "cell_type": "code",
   "execution_count": 70,
   "metadata": {},
   "outputs": [
    {
     "data": {
      "text/plain": [
       "'AN UGLY CHILD AND I WILL KILL YOU LIKE A CAT IN A BOX.....maybe.'"
      ]
     },
     "execution_count": 70,
     "metadata": {},
     "output_type": "execute_result"
    }
   ],
   "source": [
    "threat_toxic_data.iloc[56,1]"
   ]
  },
  {
   "cell_type": "code",
   "execution_count": 71,
   "metadata": {},
   "outputs": [
    {
     "data": {
      "text/plain": [
       "\"You Are A Piece Of Shit \\n\\nHow dare you deface the truth! You disgusting piece of slime, you vile wretch, you do not deserve life, I should take your pathetic heart out of your chest and watch its' last withering beats die out in my hand. NOOB. SCUM. \\n\\nWhen I am the supreme ruler of planet earth I will see to it that you are the first to be thrown into the furnace, I will heat the populace of my great cities with your ashes.\\n\\nD I E\\n\\nhehe\""
      ]
     },
     "execution_count": 71,
     "metadata": {},
     "output_type": "execute_result"
    }
   ],
   "source": [
    "threat_toxic_data.iloc[57,1]"
   ]
  },
  {
   "cell_type": "markdown",
   "metadata": {},
   "source": [
    "**Examining \"insult\" comments**"
   ]
  },
  {
   "cell_type": "code",
   "execution_count": 72,
   "metadata": {
    "collapsed": true
   },
   "outputs": [],
   "source": [
    "insult_toxic_data = train_data[train_data[\"insult\"] == 1]"
   ]
  },
  {
   "cell_type": "code",
   "execution_count": 73,
   "metadata": {},
   "outputs": [
    {
     "data": {
      "text/plain": [
       "'FUCK YOU YOU PIECE OF SHIT \\n FUCK YOU YOU PIECE OF SHIT \\n FUCK YOU YOU PIECE OF SHIT \\n FUCK YOU YOU PIECE OF SHIT \\n FUCK YOU YOU PIECE OF SHIT \\n FUCK YOU YOU PIECE OF SHIT \\n FUCK YOU YOU PIECE OF SHIT'"
      ]
     },
     "execution_count": 73,
     "metadata": {},
     "output_type": "execute_result"
    }
   ],
   "source": [
    "insult_toxic_data.iloc[100,1][:200]"
   ]
  },
  {
   "cell_type": "code",
   "execution_count": 74,
   "metadata": {},
   "outputs": [
    {
     "data": {
      "text/plain": [
       "'\"\\n\\n Doug you\\'re an nobody. You are some old bored fart who sits on wikipedia even on Christmas day, with 80,000 worthless edits. Its pure psychological projection on your behalf that you regularly attack people as here  \"\"Author has no degree\"\" when you have been exposed as a total charlatan as having no degree yourself, despite listing on your user account that you are an \"\"academic\"\".   \"'"
      ]
     },
     "execution_count": 74,
     "metadata": {},
     "output_type": "execute_result"
    }
   ],
   "source": [
    "insult_toxic_data.iloc[101,1]"
   ]
  },
  {
   "cell_type": "code",
   "execution_count": 75,
   "metadata": {},
   "outputs": [
    {
     "data": {
      "text/plain": [
       "'Wanker Wanker Wanker Wanker Wanker Wanker Wanker Wanker Wanker Wanker Wanker Wanker Wanker Wanker Wanker Wanker Wanker Wanker Wanker Wanker Wanker Wanker'"
      ]
     },
     "execution_count": 75,
     "metadata": {},
     "output_type": "execute_result"
    }
   ],
   "source": [
    "# Pure insult (no severe, no obscene)\n",
    "insult_toxic_data.iloc[102,1]"
   ]
  },
  {
   "cell_type": "code",
   "execution_count": 76,
   "metadata": {},
   "outputs": [
    {
     "data": {
      "text/plain": [
       "'You are a mother fucking son of a bich you asshole'"
      ]
     },
     "execution_count": 76,
     "metadata": {},
     "output_type": "execute_result"
    }
   ],
   "source": [
    "insult_toxic_data.iloc[103,1]"
   ]
  },
  {
   "cell_type": "code",
   "execution_count": 77,
   "metadata": {},
   "outputs": [
    {
     "data": {
      "text/plain": [
       "'How About You Shut the Fuck Up? \\n\\nStop fucking with my posts you fucking douche bag\\n\\nI AM Joe Torres. Leave me be.'"
      ]
     },
     "execution_count": 77,
     "metadata": {},
     "output_type": "execute_result"
    }
   ],
   "source": [
    "insult_toxic_data.iloc[104,1]"
   ]
  },
  {
   "cell_type": "code",
   "execution_count": 78,
   "metadata": {},
   "outputs": [
    {
     "data": {
      "text/plain": [
       "'Your still a dickface dude.'"
      ]
     },
     "execution_count": 78,
     "metadata": {},
     "output_type": "execute_result"
    }
   ],
   "source": [
    "insult_toxic_data.iloc[105,1]"
   ]
  },
  {
   "cell_type": "markdown",
   "metadata": {},
   "source": [
    "**Examining \"identity_hate\" comments**"
   ]
  },
  {
   "cell_type": "code",
   "execution_count": 79,
   "metadata": {
    "collapsed": true
   },
   "outputs": [],
   "source": [
    "identity_hate_toxic_data = train_data[train_data[\"identity_hate\"] == 1]"
   ]
  },
  {
   "cell_type": "code",
   "execution_count": 80,
   "metadata": {},
   "outputs": [
    {
     "data": {
      "text/plain": [
       "\"Go fuck yourself!!! you fucking delteted it anyway! whats the fucking point of a public Encyclopedia if you delete evrything!?!?!? I've edited a few pages so that they are more dettailed and wtf do you all do!?!!?!?!?!?! fucking get rid of it!!!!!!! and dumb down articles just to cater for you publicly ignorant american twats I hope George Bush gets killed by Islams fuck you all!!\""
      ]
     },
     "execution_count": 80,
     "metadata": {},
     "output_type": "execute_result"
    }
   ],
   "source": [
    "identity_hate_toxic_data.iloc[105,1]"
   ]
  },
  {
   "cell_type": "code",
   "execution_count": 81,
   "metadata": {},
   "outputs": [
    {
     "data": {
      "text/plain": [
       "\"You fucking piece of shit \\n\\nI'm going to hunt you down and murder you violently, you disgusting paki twat\""
      ]
     },
     "execution_count": 81,
     "metadata": {},
     "output_type": "execute_result"
    }
   ],
   "source": [
    "identity_hate_toxic_data.iloc[106,1]"
   ]
  },
  {
   "cell_type": "code",
   "execution_count": 82,
   "metadata": {},
   "outputs": [
    {
     "data": {
      "text/plain": [
       "'Hi Motherfucker Zhanzhao, are you a slant-eyed chink or a blackie indian or both? \\n\\nSays the above. Answer my question, Fucker. 218.186.12.250'"
      ]
     },
     "execution_count": 82,
     "metadata": {},
     "output_type": "execute_result"
    }
   ],
   "source": [
    "identity_hate_toxic_data.iloc[107,1]"
   ]
  },
  {
   "cell_type": "code",
   "execution_count": 83,
   "metadata": {},
   "outputs": [
    {
     "data": {
      "text/plain": [
       "\"Fraggle81 \\nYou're a faggot.\""
      ]
     },
     "execution_count": 83,
     "metadata": {},
     "output_type": "execute_result"
    }
   ],
   "source": [
    "identity_hate_toxic_data.iloc[108,1]"
   ]
  },
  {
   "cell_type": "code",
   "execution_count": 84,
   "metadata": {},
   "outputs": [
    {
     "data": {
      "text/plain": [
       "'Gay \\n\\nThe existence of CDVF is further proof that  is a sad twat. He is also very ugly, and has a willy for a face.'"
      ]
     },
     "execution_count": 84,
     "metadata": {},
     "output_type": "execute_result"
    }
   ],
   "source": [
    "identity_hate_toxic_data.iloc[109,1]"
   ]
  },
  {
   "cell_type": "markdown",
   "metadata": {},
   "source": [
    "**Conclusions**"
   ]
  },
  {
   "cell_type": "markdown",
   "metadata": {},
   "source": [
    "General:\n",
    "- The words 'don't', 'won't, etc. are provided as: 'don\\'t', 'won\\'t'. Need to clean\n",
    "- Also '\\n'. NLTK tokenizer \"eats\" it. OK. Need to make sure also keras Tokenizer\n",
    "- Internet links: normally the link is one token (unless broken with '#' for example)\n",
    "- Many symbols and punctuation: '{', '}', '.', ',', '-' and many others. Need to see when is the proper phase to take them out\n",
    "- Exclamation (or a few in a row) mark may imply toxicity\n",
    "- Emogies - saw one\n",
    "\n",
    "Cosider use **casual_tokenize** (from nltk.tokenize.casual) or **wordpunct_tokenize** or **MWETokenizer**"
   ]
  },
  {
   "cell_type": "markdown",
   "metadata": {},
   "source": [
    "\"toxic\" comments:\n",
    "- If pure \"toxic\" (no other category in addition), these are soft bad comments, like \"grow up\", \"shut up\", \"who was the idiot to ...\" etc.\n",
    "- Normally for each of the other category, \"toxic\" will be positive as well"
   ]
  },
  {
   "cell_type": "markdown",
   "metadata": {},
   "source": [
    "\"severe_toxic\" comments:\n",
    "- Very rusde words, often with sexual connotaitons: \"fuck\", \"bitch\", \"kocksucker\", \"dick\", \"pussy\", \"asshole\" etc.\n",
    "- Normally the \"severe_toxic\" coment will be positive in \"obscene\"/\"insult\", usually both (of course also \"toxic\")"
   ]
  },
  {
   "cell_type": "markdown",
   "metadata": {},
   "source": [
    "\"obscene\" comments:\n",
    "- Normally will come with \"insult\"\n",
    "- Pure \"obscene\" indicate using dirty lanuage but without any bad implication, like \"my fucking hero!\""
   ]
  },
  {
   "cell_type": "markdown",
   "metadata": {},
   "source": [
    "\"threat\" comments:\n",
    "- Use of words like: \"kill\", \"die\", \"murder\", \"death\" etc."
   ]
  },
  {
   "cell_type": "markdown",
   "metadata": {},
   "source": [
    "\"insult\" comments:\n",
    "- Normally comes with \"obscene\" positive\n",
    "- Pure identified for examole: \"wanker\""
   ]
  },
  {
   "cell_type": "markdown",
   "metadata": {},
   "source": [
    "\"identity_hate\" comments:\n",
    "- Use of identity words: \"gay\", \"faggot\", \"jew\", \"islam\", \"paki\" etc."
   ]
  },
  {
   "cell_type": "markdown",
   "metadata": {},
   "source": [
    "## Data cleaning and preparation for modeling"
   ]
  },
  {
   "cell_type": "markdown",
   "metadata": {},
   "source": [
    "Here there are four main steps to take:\n",
    "1. Text cleaning - including all the sub steps, such as punctuation removal, numbers removal, stopwords removal, stemming, droping 1 character\n",
    "2. Tokenizing - saparating the text into words/tokens. Some of the tokenizers do some of the cleaning as well. This step may come before the cleaning. I chose to do the cleaning as the first step\n",
    "3. Building an indexed vocabulary\n",
    "4. Encoding - turn the words to integers according to the\n",
    "5. Padding - Bring each comment to the same length by padding zeros to short comments and truncating long ones \n",
    "\n",
    "Each step can be done with multiple tools and functions "
   ]
  },
  {
   "cell_type": "code",
   "execution_count": 12,
   "metadata": {},
   "outputs": [
    {
     "name": "stdout",
     "output_type": "stream",
     "text": [
      "[nltk_data] Downloading package stopwords to /root/nltk_data...\n",
      "[nltk_data]   Unzipping corpora/stopwords.zip.\n"
     ]
    },
    {
     "data": {
      "text/plain": [
       "True"
      ]
     },
     "execution_count": 12,
     "metadata": {},
     "output_type": "execute_result"
    }
   ],
   "source": [
    "import nltk\n",
    "nltk.download('stopwords')"
   ]
  },
  {
   "cell_type": "code",
   "execution_count": 13,
   "metadata": {
    "collapsed": true
   },
   "outputs": [],
   "source": [
    "# Preparation of the input for clean_text function\n",
    "stop_words = set(stopwords.words(\"english\"))\n",
    "stemmer = SnowballStemmer(\"english\")"
   ]
  },
  {
   "cell_type": "markdown",
   "metadata": {},
   "source": [
    "The following fucntion cleans the text, and is used whether I use the NLTK or the Keras tokenization methods.\n",
    "The function can be modified to examing performance with different cleaning steps."
   ]
  },
  {
   "cell_type": "code",
   "execution_count": 14,
   "metadata": {
    "collapsed": true
   },
   "outputs": [],
   "source": [
    "def clean_text_sent(df, stop_words, stemmer):\n",
    "    \"\"\"\n",
    "    The functions takes a dataframe, and for each string in [\"comment_text\"], replaces numbers with \"<NUM>\", takes out the \n",
    "    stopwords, stem the words and take single letter tokens out. Then creates a new column with the new text.\n",
    "    input:\n",
    "    - df: a pandas dataframe\n",
    "    - stop_words: a list of stopwords\n",
    "    - stemmer: an instance of a stemmer\n",
    "    The function returns a new dataframe with the new column \"new_text\" that contains the clean text\n",
    "    \"\"\"\n",
    "    sentences = df[\"comment_text\"].values\n",
    "    counter = 0\n",
    "    new_text_list = []\n",
    "    for sent in tqdm(sentences):\n",
    "        # Taking out numbers and turning into token\n",
    "        digits = re.compile(r\"\\d[\\d\\.\\$]*\")\n",
    "        text = digits.sub(\"<NUM>\", sent)\n",
    "        # Stemming and taking out stopwords\n",
    "        text_stemed_without_stopwords = [stemmer.stem(word) for word in text.split() if word not in stop_words]\n",
    "        # Taking out words/symbols of only one character\n",
    "        text_no_single_letters = [word for word in text_stemed_without_stopwords if len(word) > 1]\n",
    "        new_text = ' '.join(text_no_single_letters)\n",
    "        new_text_list.append(new_text)\n",
    "    # Generating a new column with the clean text\n",
    "    df[\"new_text\"] = new_text_list\n",
    "    \n",
    "    return df"
   ]
  },
  {
   "cell_type": "code",
   "execution_count": 15,
   "metadata": {
    "collapsed": true
   },
   "outputs": [],
   "source": [
    "## I tried to create a function that runs on text, and then to run an apply function to create the new column but with no success\n",
    "\n",
    "# def clean_text(text, stop_words, stemmer):\n",
    "#     \"\"\"\n",
    "#     The functions takes a dataframe, and for each string in [\"comment_text\"], replaces numbers with \"<NUM>\", takes out the \n",
    "#     stopwords, stem the words and take single letter tokens out. Then creates a new column with the new text.\n",
    "#     input:\n",
    "#     - df: a pandas dataframe\n",
    "#     - stop_words: a list of stopwords\n",
    "#     - stemmer: an instance of a stemmer\n",
    "#     The function returns a new dataframe with the new column \"new_text\" that contains the clean text\n",
    "#     \"\"\"\n",
    "#     # Taking out numbers and turning into token\n",
    "#     digits = re.compile(r\"\\d[\\d\\.\\$]*\")\n",
    "#     num_text = digits.sub(\"<NUM>\", text)\n",
    "#     # Stemming and taking out stopwords\n",
    "#     text_stemed_without_stopwords = [stemmer.stem(word) for word in num_text.split() if word not in stop_words]\n",
    "#     # Taking out words/symbols of only one character\n",
    "#     text_no_single_letters = [word for word in text_stemed_without_stopwords if len(word) > 1]\n",
    "#     new_text = ' '.join(text_no_single_letters)\n",
    "     \n",
    "#     return new_text"
   ]
  },
  {
   "cell_type": "code",
   "execution_count": 16,
   "metadata": {
    "collapsed": true
   },
   "outputs": [],
   "source": [
    "# %%time\n",
    "# tqdm.monitor_interval = 0 # Prevent the error: RuntimeError: Set changed size during iteration\n",
    "# # Transforming the datasets\n",
    "# dfs = [train_data, val_data, test_data]\n",
    "# new_dfs = []\n",
    "## Not sure what input I need as the first one when calling the clen_text_function\n",
    "# train_data_clean, val_data_clean, test_data_clean = [df[\"new_text\"] = df[\"comment_text\"]\\\n",
    "#                                                      .apply(clean_text_(?, stop_words, stemmer)) for df in dfs] "
   ]
  },
  {
   "cell_type": "code",
   "execution_count": 17,
   "metadata": {},
   "outputs": [
    {
     "data": {
      "application/vnd.jupyter.widget-view+json": {
       "model_id": "668b5077e6c647be96eece048b9720df",
       "version_major": 2,
       "version_minor": 0
      },
      "text/plain": [
       "HBox(children=(IntProgress(value=0, max=127656), HTML(value='')))"
      ]
     },
     "metadata": {},
     "output_type": "display_data"
    },
    {
     "name": "stdout",
     "output_type": "stream",
     "text": [
      "\n"
     ]
    },
    {
     "name": "stderr",
     "output_type": "stream",
     "text": [
      "/usr/local/lib/python3.6/site-packages/ipykernel_launcher.py:25: SettingWithCopyWarning: \n",
      "A value is trying to be set on a copy of a slice from a DataFrame.\n",
      "Try using .loc[row_indexer,col_indexer] = value instead\n",
      "\n",
      "See the caveats in the documentation: http://pandas.pydata.org/pandas-docs/stable/indexing.html#indexing-view-versus-copy\n"
     ]
    },
    {
     "data": {
      "application/vnd.jupyter.widget-view+json": {
       "model_id": "e027412873ba4e0f96b110b345c79b36",
       "version_major": 2,
       "version_minor": 0
      },
      "text/plain": [
       "HBox(children=(IntProgress(value=0, max=31915), HTML(value='')))"
      ]
     },
     "metadata": {},
     "output_type": "display_data"
    },
    {
     "name": "stdout",
     "output_type": "stream",
     "text": [
      "\n"
     ]
    },
    {
     "data": {
      "application/vnd.jupyter.widget-view+json": {
       "model_id": "3bcd39c0070941c18736027c3ed85afb",
       "version_major": 2,
       "version_minor": 0
      },
      "text/plain": [
       "HBox(children=(IntProgress(value=0, max=153164), HTML(value='')))"
      ]
     },
     "metadata": {},
     "output_type": "display_data"
    },
    {
     "name": "stdout",
     "output_type": "stream",
     "text": [
      "\n",
      "CPU times: user 3min 51s, sys: 232 ms, total: 3min 51s\n",
      "Wall time: 3min 50s\n"
     ]
    }
   ],
   "source": [
    "%%time\n",
    "tqdm.monitor_interval = 0 # Prevent the error: RuntimeError: Set changed size during iteration\n",
    "# Transforming the datasets\n",
    "dfs = [train_data, val_data, test_data]\n",
    "train_data_clean, val_data_clean, test_data_clean = [clean_text_sent(df, stop_words, stemmer) for df in dfs] "
   ]
  },
  {
   "cell_type": "code",
   "execution_count": 91,
   "metadata": {},
   "outputs": [
    {
     "data": {
      "text/html": [
       "<div>\n",
       "<style>\n",
       "    .dataframe thead tr:only-child th {\n",
       "        text-align: right;\n",
       "    }\n",
       "\n",
       "    .dataframe thead th {\n",
       "        text-align: left;\n",
       "    }\n",
       "\n",
       "    .dataframe tbody tr th {\n",
       "        vertical-align: top;\n",
       "    }\n",
       "</style>\n",
       "<table border=\"1\" class=\"dataframe\">\n",
       "  <thead>\n",
       "    <tr style=\"text-align: right;\">\n",
       "      <th></th>\n",
       "      <th>id</th>\n",
       "      <th>comment_text</th>\n",
       "      <th>toxic</th>\n",
       "      <th>severe_toxic</th>\n",
       "      <th>obscene</th>\n",
       "      <th>threat</th>\n",
       "      <th>insult</th>\n",
       "      <th>identity_hate</th>\n",
       "      <th>n_words</th>\n",
       "      <th>new_text</th>\n",
       "    </tr>\n",
       "  </thead>\n",
       "  <tbody>\n",
       "    <tr>\n",
       "      <th>157279</th>\n",
       "      <td>db5b4c7e09a2e9d4</td>\n",
       "      <td>\"\\n\\nHmmm, the work of Polish proffesors is no...</td>\n",
       "      <td>0</td>\n",
       "      <td>0</td>\n",
       "      <td>0</td>\n",
       "      <td>0</td>\n",
       "      <td>0</td>\n",
       "      <td>0</td>\n",
       "      <td>20</td>\n",
       "      <td>hmmm, work polish proffesor \"\"reliabl source\"\" ?!</td>\n",
       "    </tr>\n",
       "    <tr>\n",
       "      <th>1259</th>\n",
       "      <td>03624b38905d611f</td>\n",
       "      <td>Why I'm talking to you?</td>\n",
       "      <td>0</td>\n",
       "      <td>0</td>\n",
       "      <td>0</td>\n",
       "      <td>0</td>\n",
       "      <td>0</td>\n",
       "      <td>0</td>\n",
       "      <td>7</td>\n",
       "      <td>whi i'm talk you?</td>\n",
       "    </tr>\n",
       "    <tr>\n",
       "      <th>1562</th>\n",
       "      <td>043411a0a4d61e95</td>\n",
       "      <td>Dueling unit costs\\n\\nI've removed the dueling...</td>\n",
       "      <td>0</td>\n",
       "      <td>0</td>\n",
       "      <td>0</td>\n",
       "      <td>0</td>\n",
       "      <td>0</td>\n",
       "      <td>0</td>\n",
       "      <td>79</td>\n",
       "      <td>duel unit cost i'v remov duel unit cost figur ...</td>\n",
       "    </tr>\n",
       "    <tr>\n",
       "      <th>95532</th>\n",
       "      <td>ff71d44c20144c8d</td>\n",
       "      <td>\"\\n\\nOkay, let's settle this\\nLook above, at t...</td>\n",
       "      <td>0</td>\n",
       "      <td>0</td>\n",
       "      <td>0</td>\n",
       "      <td>0</td>\n",
       "      <td>0</td>\n",
       "      <td>0</td>\n",
       "      <td>166</td>\n",
       "      <td>okay, let settl look above, section titl \"\"pet...</td>\n",
       "    </tr>\n",
       "    <tr>\n",
       "      <th>104452</th>\n",
       "      <td>2ecc07eaf7e735b0</td>\n",
       "      <td>\"\\nYou have been asked to explain what is POV ...</td>\n",
       "      <td>0</td>\n",
       "      <td>0</td>\n",
       "      <td>0</td>\n",
       "      <td>0</td>\n",
       "      <td>0</td>\n",
       "      <td>0</td>\n",
       "      <td>22</td>\n",
       "      <td>you ask explain pov edit summari correct. talk</td>\n",
       "    </tr>\n",
       "    <tr>\n",
       "      <th>144720</th>\n",
       "      <td>116c81247025860b</td>\n",
       "      <td>Sure, no problem. I obviously do not have any ...</td>\n",
       "      <td>0</td>\n",
       "      <td>0</td>\n",
       "      <td>0</td>\n",
       "      <td>0</td>\n",
       "      <td>0</td>\n",
       "      <td>0</td>\n",
       "      <td>47</td>\n",
       "      <td>sure, problem. obvious posit dispute, side con...</td>\n",
       "    </tr>\n",
       "    <tr>\n",
       "      <th>27657</th>\n",
       "      <td>493885b693d24a36</td>\n",
       "      <td>\"\\nSorry man. I couldn't get an image caption,...</td>\n",
       "      <td>0</td>\n",
       "      <td>0</td>\n",
       "      <td>0</td>\n",
       "      <td>0</td>\n",
       "      <td>0</td>\n",
       "      <td>0</td>\n",
       "      <td>50</td>\n",
       "      <td>sorri man. get imag caption, infobox \"\"music a...</td>\n",
       "    </tr>\n",
       "    <tr>\n",
       "      <th>127337</th>\n",
       "      <td>a910f85d885854f1</td>\n",
       "      <td>Is this your Horse?\\n\\n and its erect penis]]</td>\n",
       "      <td>1</td>\n",
       "      <td>0</td>\n",
       "      <td>1</td>\n",
       "      <td>0</td>\n",
       "      <td>0</td>\n",
       "      <td>0</td>\n",
       "      <td>11</td>\n",
       "      <td>is horse? erect penis]]</td>\n",
       "    </tr>\n",
       "    <tr>\n",
       "      <th>90540</th>\n",
       "      <td>f23ff55817b35935</td>\n",
       "      <td>HMS Loch Killisport \\n\\nI thought Prince Phili...</td>\n",
       "      <td>0</td>\n",
       "      <td>0</td>\n",
       "      <td>0</td>\n",
       "      <td>0</td>\n",
       "      <td>0</td>\n",
       "      <td>0</td>\n",
       "      <td>52</td>\n",
       "      <td>hms loch killisport thought princ philip offic...</td>\n",
       "    </tr>\n",
       "    <tr>\n",
       "      <th>14024</th>\n",
       "      <td>24fada89cc422e8b</td>\n",
       "      <td>\"\\n\\n pic for storm \\n\\nHi Julian, which is th...</td>\n",
       "      <td>0</td>\n",
       "      <td>0</td>\n",
       "      <td>0</td>\n",
       "      <td>0</td>\n",
       "      <td>0</td>\n",
       "      <td>0</td>\n",
       "      <td>23</td>\n",
       "      <td>pic storm hi julian, best map display a? (talk)</td>\n",
       "    </tr>\n",
       "  </tbody>\n",
       "</table>\n",
       "</div>"
      ],
      "text/plain": [
       "                      id                                       comment_text  \\\n",
       "157279  db5b4c7e09a2e9d4  \"\\n\\nHmmm, the work of Polish proffesors is no...   \n",
       "1259    03624b38905d611f                            Why I'm talking to you?   \n",
       "1562    043411a0a4d61e95  Dueling unit costs\\n\\nI've removed the dueling...   \n",
       "95532   ff71d44c20144c8d  \"\\n\\nOkay, let's settle this\\nLook above, at t...   \n",
       "104452  2ecc07eaf7e735b0  \"\\nYou have been asked to explain what is POV ...   \n",
       "144720  116c81247025860b  Sure, no problem. I obviously do not have any ...   \n",
       "27657   493885b693d24a36  \"\\nSorry man. I couldn't get an image caption,...   \n",
       "127337  a910f85d885854f1      Is this your Horse?\\n\\n and its erect penis]]   \n",
       "90540   f23ff55817b35935  HMS Loch Killisport \\n\\nI thought Prince Phili...   \n",
       "14024   24fada89cc422e8b  \"\\n\\n pic for storm \\n\\nHi Julian, which is th...   \n",
       "\n",
       "        toxic  severe_toxic  obscene  threat  insult  identity_hate  n_words  \\\n",
       "157279      0             0        0       0       0              0       20   \n",
       "1259        0             0        0       0       0              0        7   \n",
       "1562        0             0        0       0       0              0       79   \n",
       "95532       0             0        0       0       0              0      166   \n",
       "104452      0             0        0       0       0              0       22   \n",
       "144720      0             0        0       0       0              0       47   \n",
       "27657       0             0        0       0       0              0       50   \n",
       "127337      1             0        1       0       0              0       11   \n",
       "90540       0             0        0       0       0              0       52   \n",
       "14024       0             0        0       0       0              0       23   \n",
       "\n",
       "                                                 new_text  \n",
       "157279  hmmm, work polish proffesor \"\"reliabl source\"\" ?!  \n",
       "1259                                    whi i'm talk you?  \n",
       "1562    duel unit cost i'v remov duel unit cost figur ...  \n",
       "95532   okay, let settl look above, section titl \"\"pet...  \n",
       "104452     you ask explain pov edit summari correct. talk  \n",
       "144720  sure, problem. obvious posit dispute, side con...  \n",
       "27657   sorri man. get imag caption, infobox \"\"music a...  \n",
       "127337                            is horse? erect penis]]  \n",
       "90540   hms loch killisport thought princ philip offic...  \n",
       "14024     pic storm hi julian, best map display a? (talk)  "
      ]
     },
     "execution_count": 91,
     "metadata": {},
     "output_type": "execute_result"
    }
   ],
   "source": [
    "train_data_clean.iloc[:10,:]"
   ]
  },
  {
   "cell_type": "code",
   "execution_count": 92,
   "metadata": {},
   "outputs": [
    {
     "name": "stdout",
     "output_type": "stream",
     "text": [
      "Before cleaning:  Sorry if the word 'nonsense' was offensive to you. Anyway, I'm not intending to write anything in the article(wow they would jump on me for vandalism), I'm merely requesting that it be more encyclopedic so one can use it for school as a reference. I have been to the selective breeding page but it's almost a stub. It points to 'animal breeding' which is a short messy article that gives you no info. There must be someone around with expertise in eugenics? 93.161.107.169\n",
      "\n",
      "After cleaning:  sorri word nonsens offens you. anyway, i'm intend write anyth article(wow would jump vandalism), i'm mere request encycloped one use school reference. select breed page almost stub. it point anim breed short messi articl give info. there must someon around expertis eugenics? <num>\n"
     ]
    }
   ],
   "source": [
    "# Example\n",
    "print(\"Before cleaning: \", train_data_clean[\"comment_text\"][8])\n",
    "print()\n",
    "print(\"After cleaning: \", train_data_clean[\"new_text\"][8])"
   ]
  },
  {
   "cell_type": "markdown",
   "metadata": {},
   "source": [
    "**Keras Tokenizer**\n",
    "\n",
    "Below is a diagram with the steps and on the left are the funcitons used."
   ]
  },
  {
   "cell_type": "markdown",
   "metadata": {},
   "source": [
    "![image.png](attachment:image.png)"
   ]
  },
  {
   "cell_type": "code",
   "execution_count": 93,
   "metadata": {
    "collapsed": true
   },
   "outputs": [],
   "source": [
    "# Define the size of the vocabulary\n",
    "max_features = 100000"
   ]
  },
  {
   "cell_type": "code",
   "execution_count": 94,
   "metadata": {
    "collapsed": true
   },
   "outputs": [],
   "source": [
    "def keras_tokening(df, max_features):\n",
    "    \"\"\"Instantiate a Tokenizer object and fit it on a dataframe\"\"\"\n",
    "    # First instantiating\n",
    "    tokenizer = Tokenizer(num_words=max_features) \n",
    "    # Now I am fitting the tokenizer to the train data \n",
    "    tokenizer.fit_on_texts(df[\"new_text\"].values)\n",
    "    return tokenizer"
   ]
  },
  {
   "cell_type": "code",
   "execution_count": 95,
   "metadata": {
    "collapsed": true
   },
   "outputs": [],
   "source": [
    "# Creating the tokenizer and fitting it\n",
    "tokenizer = keras_tokening(train_data_clean, max_features)"
   ]
  },
  {
   "cell_type": "code",
   "execution_count": 96,
   "metadata": {},
   "outputs": [
    {
     "data": {
      "text/plain": [
       "16848"
      ]
     },
     "execution_count": 96,
     "metadata": {},
     "output_type": "execute_result"
    }
   ],
   "source": [
    "tokenizer.word_counts[\"that\"]"
   ]
  },
  {
   "cell_type": "code",
   "execution_count": 97,
   "metadata": {},
   "outputs": [
    {
     "name": "stdout",
     "output_type": "stream",
     "text": [
      "word_count:  151545\n"
     ]
    }
   ],
   "source": [
    "print(\"word_count: \", len(tokenizer.word_counts))"
   ]
  },
  {
   "cell_type": "code",
   "execution_count": 98,
   "metadata": {
    "collapsed": true
   },
   "outputs": [],
   "source": [
    "# I define this variable since I will need it later for the model\n",
    "keras_vocab_size = len(tokenizer.word_index)"
   ]
  },
  {
   "cell_type": "code",
   "execution_count": 99,
   "metadata": {},
   "outputs": [
    {
     "data": {
      "text/plain": [
       "True"
      ]
     },
     "execution_count": 99,
     "metadata": {},
     "output_type": "execute_result"
    }
   ],
   "source": [
    "#Examining the word_index of the Tokenizer\n",
    "'that' in tokenizer.word_index"
   ]
  },
  {
   "cell_type": "markdown",
   "metadata": {},
   "source": [
    "tokenizer.word_index.items() gives a warning. To overcome I need to open jupyter with:\n",
    "\n",
    "jupyter notebook --NotebookApp.iopub_data_rate_limit=10000000"
   ]
  },
  {
   "cell_type": "markdown",
   "metadata": {},
   "source": [
    "I saw in Kaggle that all of the people fit on both train and test. This will give them a better Kaggle score, but it is a bad model, since it will perform poorly on new data (not fitted). I am fitting only on the train data, which will result in 0 values for unknown words on the test data."
   ]
  },
  {
   "cell_type": "code",
   "execution_count": 100,
   "metadata": {
    "collapsed": true
   },
   "outputs": [],
   "source": [
    "def preprocess_with_keras(df, max_len, encoding_support=tokenizer):\n",
    "    \"\"\"\n",
    "    The function turns a text into padded arrays, ready as an input for the model\n",
    "    input:\n",
    "    - df: a pandas dataframe\n",
    "    - max_len: the length of the array for padding the comments\n",
    "    - encoding_support: needs to receive 'tokenozer'. The purpose of this argument is to allow using this function when creating\n",
    "      the datasets for the model.\n",
    "    The function return a matrix with the padded arrays\n",
    "    \"\"\"\n",
    "    \n",
    "    X_text = df[\"new_text\"].values\n",
    "    X_int = tokenizer.texts_to_sequences(X_text) # Returns a list\n",
    "    X_pad = sequence.pad_sequences(X_int, maxlen=max_len)\n",
    "    \n",
    "    return X_pad"
   ]
  },
  {
   "cell_type": "code",
   "execution_count": 101,
   "metadata": {},
   "outputs": [
    {
     "data": {
      "text/plain": [
       "list"
      ]
     },
     "execution_count": 101,
     "metadata": {},
     "output_type": "execute_result"
    }
   ],
   "source": [
    "type(tokenizer.texts_to_sequences(test_data[\"new_text\"].values))"
   ]
  },
  {
   "cell_type": "markdown",
   "metadata": {},
   "source": [
    "**NLTK tokenizing and cleaning**\n",
    "\n",
    "Below is a diagram with the steps and on the left are the funcitons used."
   ]
  },
  {
   "cell_type": "markdown",
   "metadata": {},
   "source": [
    "![image.png](attachment:image.png)"
   ]
  },
  {
   "cell_type": "code",
   "execution_count": 18,
   "metadata": {
    "collapsed": true
   },
   "outputs": [],
   "source": [
    "# !!! Currently takes as input only the train_data for the vocabulary!!!\n",
    "def create_counter(clean_df):\n",
    "    \"\"\"\n",
    "    The purpose of this function is to crate a word counter for a corpus for 1. adjust the desired vocabulary size (see \n",
    "    vocab_coverage function), 2. to create a word index for padding (see create_word_index function)\n",
    "    input:\n",
    "    - clean_df: a pandas dataframe with a column of clean text (after initial preprocessing)\n",
    "    The function returns:\n",
    "    - lexicon: a list of all the tokens in the corpus\n",
    "    - word_count: a dictionary with all the tokens and their frequency\n",
    "    \"\"\"\n",
    "    \n",
    "    # First create the full lexicon (all the words/symbols form the new_text colomn)\n",
    "    lexicon = []\n",
    "    for sent in tqdm(clean_df[\"new_text\"].values):\n",
    "        token = casual_tokenize(sent) # Tokenizes each sentence\n",
    "        lexicon += token # and adds it to the lexicon\n",
    "    print(\"Full lexicon length: {}.\".format(len(lexicon)))\n",
    "    # Create a Counter object, which is a dictionary of all the words in the lexicon, and their frequency\n",
    "    word_counts = Counter(lexicon) \n",
    "    print(\"Counter (unique words) length: {}.\".format(len(word_counts)))\n",
    "    # I need to return both the lexicon and the word_count, since I use then for reducing the vocabulary\n",
    "    return lexicon, word_counts"
   ]
  },
  {
   "cell_type": "code",
   "execution_count": 19,
   "metadata": {},
   "outputs": [
    {
     "data": {
      "application/vnd.jupyter.widget-view+json": {
       "model_id": "185a9aa7a45c4cbbb69909b6c5daaca1",
       "version_major": 2,
       "version_minor": 0
      },
      "text/plain": [
       "HBox(children=(IntProgress(value=0, max=127656), HTML(value='')))"
      ]
     },
     "metadata": {},
     "output_type": "display_data"
    },
    {
     "name": "stdout",
     "output_type": "stream",
     "text": [
      "\n",
      "Full lexicon length: 6510504.\n",
      "Counter (unique words) length: 171050.\n"
     ]
    }
   ],
   "source": [
    "# Creating the lexicon and the counter\n",
    "lexicon, word_counter = create_counter(train_data_clean)"
   ]
  },
  {
   "cell_type": "code",
   "execution_count": 20,
   "metadata": {},
   "outputs": [
    {
     "data": {
      "application/vnd.jupyter.widget-view+json": {
       "model_id": "7e640d923c7b414b884d4f8a22e15a0a",
       "version_major": 2,
       "version_minor": 0
      },
      "text/plain": [
       "interactive(children=(IntSlider(value=1, description='lb', max=30, min=1), IntSlider(value=10000, description=…"
      ]
     },
     "metadata": {},
     "output_type": "display_data"
    }
   ],
   "source": [
    "@interact(lb = (1,30), ub =(5000,500000))\n",
    "def vocab_coverage(lb=1,ub=10000):\n",
    "    \"\"\" The Function allows adjusting the vocabulary size\"\"\"\n",
    "    \n",
    "    lex_2 = [w for w in word_counter if ub >= word_counter[w] >= lb]\n",
    "    words_covered = sum([word_counter[word] for word in lex_2])\n",
    "    corpus_percentage = words_covered/len(lexicon)\n",
    "    return \"Corpus Coverage: {:.2f}%, lexicon used: {} words.\".format(corpus_percentage*100, len(lex_2))"
   ]
  },
  {
   "cell_type": "code",
   "execution_count": 21,
   "metadata": {
    "collapsed": true
   },
   "outputs": [],
   "source": [
    "def create_word_index(lb, ub, counter):\n",
    "    \"\"\"\n",
    "    The function creates a word index, where each token is designated with an index. This is used for encoding.\n",
    "    input:\n",
    "    - lb: lower bound, the minimum number that a word appears in the original korpus\n",
    "    - ub: upper bound, the maximum number that a word appears in the original korpus\n",
    "    - counter: a Counter object that contains the frequency of each word \n",
    "    The function returns a dictionary with the words as keys and the index as values \n",
    "    \"\"\"\n",
    "    \n",
    "    lexicon_2 = [w for w in counter if ub >= counter[w] >= lb]\n",
    "    print(\"New lexicon length: {}.\".format(len(lexicon_2)))\n",
    "    word_index = {}\n",
    "    counter = 1\n",
    "    for word in lexicon_2:\n",
    "        word_index[word] = counter\n",
    "        counter += 1\n",
    "    return word_index"
   ]
  },
  {
   "cell_type": "code",
   "execution_count": 22,
   "metadata": {},
   "outputs": [
    {
     "name": "stdout",
     "output_type": "stream",
     "text": [
      "New lexicon length: 50369.\n"
     ]
    }
   ],
   "source": [
    "nltk_word_index = create_word_index(3, 50000, word_counter)"
   ]
  },
  {
   "cell_type": "code",
   "execution_count": 23,
   "metadata": {
    "collapsed": true
   },
   "outputs": [],
   "source": [
    "# I define this variable since I will need it later for the model\n",
    "nltk_vocab_size = len(nltk_word_index)"
   ]
  },
  {
   "cell_type": "code",
   "execution_count": 24,
   "metadata": {
    "collapsed": true
   },
   "outputs": [],
   "source": [
    "def preprocess_with_nltk(df, max_len, encoding_suppot=nltk_word_index):\n",
    "    \"\"\"\n",
    "    The function turns a text into padded arrays, ready as an input for the model\n",
    "    input:\n",
    "    - df: a pandas dataframe\n",
    "    - max_len: the length of the array for padding the comments\n",
    "    - encoding_support: needs to receive 'word_index'. The purpose of this argument is to allow using this function when creating\n",
    "      the datasets for the model.\n",
    "    The function return a matrix with the padded arrays\n",
    "    \"\"\"\n",
    "        \n",
    "    X_text = df[\"new_text\"].values\n",
    "    X_encode_list = []\n",
    "    for sent in tqdm(X_text):\n",
    "        tokenized = casual_tokenize(sent)\n",
    "        encoded = np.array([word_index[word] for word in tokenized if word in word_index])\n",
    "        X_encode_list.append(encoded)\n",
    "    X_pad = sequence.pad_sequences(X_encode_list, maxlen=max_len)\n",
    "        \n",
    "    return X_pad"
   ]
  },
  {
   "cell_type": "code",
   "execution_count": 25,
   "metadata": {
    "collapsed": true
   },
   "outputs": [],
   "source": [
    "# The following line allows choosing whether to use the Keras or the NLTK preprocessing \n",
    "preprocess_type = 'nltk' # 'keras'/'nltk'"
   ]
  },
  {
   "cell_type": "code",
   "execution_count": 26,
   "metadata": {
    "collapsed": true
   },
   "outputs": [],
   "source": [
    "# The following if statement defines whether the preprocessing fuction of Keras or NLTK's will be used according to\n",
    "# 'preprocess_type' variable\n",
    "if preprocess_type == 'nltk':\n",
    "    preprocess_func = preprocess_with_nltk\n",
    "    support = nltk_word_index\n",
    "    vocab_size = nltk_vocab_size\n",
    "    word_index = nltk_word_index\n",
    "elif preprocess_type == 'keras':\n",
    "    preprocess_func = preprocess_with_keras\n",
    "    support = tokenizer\n",
    "    vocab_size = keras_vocab_size\n",
    "    word_index = tokenizer.word_index\n",
    "else:\n",
    "    print(\"Unknown preprocessing function\")"
   ]
  },
  {
   "cell_type": "code",
   "execution_count": 47,
   "metadata": {},
   "outputs": [
    {
     "data": {
      "text/plain": [
       "['word_index']"
      ]
     },
     "execution_count": 47,
     "metadata": {},
     "output_type": "execute_result"
    }
   ],
   "source": [
    "# I need the word_index for the embedding_matrix, so I use it with joblib\n",
    "joblib.dump(word_index, filename='word_index')"
   ]
  },
  {
   "cell_type": "code",
   "execution_count": 27,
   "metadata": {
    "collapsed": true
   },
   "outputs": [],
   "source": [
    "max_len=200"
   ]
  },
  {
   "cell_type": "code",
   "execution_count": 112,
   "metadata": {},
   "outputs": [
    {
     "data": {
      "application/vnd.jupyter.widget-view+json": {
       "model_id": "e355b924d1634542bec88d04b116d4d7",
       "version_major": 2,
       "version_minor": 0
      },
      "text/plain": [
       "A Jupyter Widget"
      ]
     },
     "metadata": {},
     "output_type": "display_data"
    },
    {
     "data": {
      "application/vnd.jupyter.widget-view+json": {
       "model_id": "4032f95a7a00466a9f8f8e39c0f95679",
       "version_major": 2,
       "version_minor": 0
      },
      "text/plain": [
       "A Jupyter Widget"
      ]
     },
     "metadata": {},
     "output_type": "display_data"
    },
    {
     "data": {
      "application/vnd.jupyter.widget-view+json": {
       "model_id": "e6e9cb0a6c644beaa1cf467007333aab",
       "version_major": 2,
       "version_minor": 0
      },
      "text/plain": [
       "A Jupyter Widget"
      ]
     },
     "metadata": {},
     "output_type": "display_data"
    },
    {
     "data": {
      "application/vnd.jupyter.widget-view+json": {
       "model_id": "e95ccff96efe4d46ba40518ede0e4894",
       "version_major": 2,
       "version_minor": 0
      },
      "text/plain": [
       "A Jupyter Widget"
      ]
     },
     "metadata": {},
     "output_type": "display_data"
    },
    {
     "name": "stdout",
     "output_type": "stream",
     "text": [
      "\n"
     ]
    }
   ],
   "source": [
    "    \n",
    "dfs = [train_data_clean, val_data_clean, test_data_clean]    \n",
    "X_train_for_model, X_val_for_model, X_test_for_model = [preprocess_func(df, max_len, support) for df in tqdm(dfs)]"
   ]
  },
  {
   "cell_type": "code",
   "execution_count": 113,
   "metadata": {
    "collapsed": true
   },
   "outputs": [],
   "source": [
    "# import joblib"
   ]
  },
  {
   "cell_type": "code",
   "execution_count": 114,
   "metadata": {},
   "outputs": [
    {
     "data": {
      "text/plain": [
       "['X_test_for_model']"
      ]
     },
     "execution_count": 114,
     "metadata": {},
     "output_type": "execute_result"
    }
   ],
   "source": [
    "joblib.dump(X_train_for_model, filename='X_train_for_model')\n",
    "joblib.dump(X_val_for_model, filename='X_val_for_model')\n",
    "joblib.dump(X_test_for_model, filename='X_test_for_model')"
   ]
  },
  {
   "cell_type": "code",
   "execution_count": 28,
   "metadata": {
    "collapsed": true
   },
   "outputs": [],
   "source": [
    "X_train_for_model = joblib.load('X_train_for_model')\n",
    "X_val_for_model = joblib.load('X_val_for_model')\n",
    "#X_test_for_model = joblib.load('X_test_for_model')"
   ]
  },
  {
   "cell_type": "code",
   "execution_count": 8,
   "metadata": {
    "collapsed": true
   },
   "outputs": [],
   "source": [
    "# I am forcing it since on floydhub I am not running the whole code\n",
    "vocab_size=50369"
   ]
  },
  {
   "cell_type": "markdown",
   "metadata": {},
   "source": [
    "**Embedding Matrix** - TBD"
   ]
  },
  {
   "cell_type": "markdown",
   "metadata": {},
   "source": [
    "Uploading GloVe"
   ]
  },
  {
   "cell_type": "code",
   "execution_count": 9,
   "metadata": {
    "collapsed": true
   },
   "outputs": [],
   "source": [
    "with open(\"/floyd/input/embedding/glove.840B.300d.txt\", \"r\", encoding=\"UTF-8\") as f:\n",
    "    glove = f.readlines()"
   ]
  },
  {
   "cell_type": "code",
   "execution_count": 10,
   "metadata": {},
   "outputs": [
    {
     "data": {
      "application/vnd.jupyter.widget-view+json": {
       "model_id": "5d51694f93624ae39533120a7fb0b050",
       "version_major": 2,
       "version_minor": 0
      },
      "text/plain": [
       "HBox(children=(IntProgress(value=0, max=2196018), HTML(value='')))"
      ]
     },
     "metadata": {},
     "output_type": "display_data"
    },
    {
     "name": "stdout",
     "output_type": "stream",
     "text": [
      "\n"
     ]
    }
   ],
   "source": [
    "# The file is a text file, where each line begins with a word, and then 300 float numbers separated by scace\n",
    "# The embedding matrix for the model requires a dictionary\n",
    "embedding_dict = {}\n",
    "for line in tqdm(glove):\n",
    "    split_line = line.split()\n",
    "    word = split_line[0]\n",
    "    # Turning the list of numbers to numpy array\n",
    "    vect = np.array(split_line[1:])\n",
    "    embedding_dict[word] = vect "
   ]
  },
  {
   "cell_type": "markdown",
   "metadata": {},
   "source": [
    "Now the embedding matrix"
   ]
  },
  {
   "cell_type": "code",
   "execution_count": null,
   "metadata": {
    "collapsed": true
   },
   "outputs": [],
   "source": [
    "word_index = joblib.load('word_index')"
   ]
  },
  {
   "cell_type": "code",
   "execution_count": 29,
   "metadata": {},
   "outputs": [
    {
     "data": {
      "application/vnd.jupyter.widget-view+json": {
       "model_id": "163280af9d4544ceab1c0a6f03afa804",
       "version_major": 2,
       "version_minor": 0
      },
      "text/plain": [
       "HBox(children=(IntProgress(value=0, max=50369), HTML(value='')))"
      ]
     },
     "metadata": {},
     "output_type": "display_data"
    },
    {
     "name": "stdout",
     "output_type": "stream",
     "text": [
      "\n"
     ]
    }
   ],
   "source": [
    "# create a weight matrix for words in training docs\n",
    "embedding_matrix = np.zeros((vocab_size, 300))\n",
    "for word, i in tqdm(word_index.items()):\n",
    "    if word in embedding_dict.keys():\n",
    "        # It turns out that some vectors are over 300 values and other do not contain numbers\n",
    "        try:\n",
    "            embedding_vector = embedding_dict[word][:300]\n",
    "            #print(len(embedding_vector))\n",
    "            #if embedding_vector is not None: # Only if exits in the pre-trained\n",
    "            embedding_matrix[i] = embedding_vector\n",
    "        except ValueError:\n",
    "            pass"
   ]
  },
  {
   "cell_type": "markdown",
   "metadata": {},
   "source": [
    "## Modeling"
   ]
  },
  {
   "cell_type": "markdown",
   "metadata": {},
   "source": [
    "**Preparing y sets**"
   ]
  },
  {
   "cell_type": "code",
   "execution_count": 30,
   "metadata": {
    "collapsed": true
   },
   "outputs": [],
   "source": [
    "y_train = train_data[[\"toxic\", \"severe_toxic\", \"obscene\", \"threat\", \"insult\", \"identity_hate\"]].values\n",
    "y_val = val_data[[\"toxic\", \"severe_toxic\", \"obscene\", \"threat\", \"insult\", \"identity_hate\"]].values"
   ]
  },
  {
   "cell_type": "markdown",
   "metadata": {},
   "source": [
    "**Creating the AUC callback**"
   ]
  },
  {
   "cell_type": "markdown",
   "metadata": {},
   "source": [
    "Explenations about:\n",
    "- [super](https://stackoverflow.com/questions/222877/what-does-super-do-in-python)\n",
    "- [Callback](https://github.com/knathanieltucker/a-bit-of-deep-learning-and-keras/blob/master/notebooks/Callbacks.ipynb), and a [video](https://www.youtube.com/watch?time_continue=38&v=Gl-N3xr5zLI) from the same guy\n",
    "- logs: on the picture below"
   ]
  },
  {
   "cell_type": "markdown",
   "metadata": {},
   "source": [
    "![image.png](attachment:image.png)"
   ]
  },
  {
   "cell_type": "code",
   "execution_count": 31,
   "metadata": {
    "collapsed": true
   },
   "outputs": [],
   "source": [
    "class RocAucEvaluation(Callback):\n",
    "    def __init__(self, train_data = (), validation_data=(), interval=1):\n",
    "        super(Callback, self).__init__()\n",
    "\n",
    "        self.interval = interval\n",
    "        self.X_val, self.y_val = validation_data\n",
    "        self.X_train, self.y_train = train_data\n",
    "\n",
    "    def on_epoch_end(self, epoch, logs={}):\n",
    "        if epoch % self.interval == 0:\n",
    "            # Calculating the validation set AUC\n",
    "            y_val_pred = self.model.predict(self.X_val, verbose=0)\n",
    "            val_score = roc_auc_score(self.y_val, y_val_pred)\n",
    "            print(\"\\nval ROC-AUC - epoch: {:d} - score: {:.6f}\".format(epoch+1, val_score))\n",
    "#             # Calculating the training set AUC\n",
    "#             y_train_pred = self.model.predict(self.X_train, verbose=0)\n",
    "#             train_score = roc_auc_score(self.y_train, y_train_pred)\n",
    "#             print(\"\\ntrain ROC-AUC - epoch: {:d} - score: {:.6f}\".format(epoch+1, train_score))"
   ]
  },
  {
   "cell_type": "code",
   "execution_count": 32,
   "metadata": {
    "collapsed": true
   },
   "outputs": [],
   "source": [
    "#     def on_epoch_end(self, epoch, logs={}):\n",
    "#         if epoch % self.interval == 0:\n",
    "#             y_pred = self.model.predict(self.X_val, verbose=0)\n",
    "#             score = roc_auc_score(self.y_val, y_pred)\n",
    "#             print(\"\\n ROC-AUC - epoch: {:d} - score: {:.6f}\".format(epoch+1, score))"
   ]
  },
  {
   "cell_type": "markdown",
   "metadata": {},
   "source": [
    "**Defining the model**"
   ]
  },
  {
   "cell_type": "markdown",
   "metadata": {},
   "source": [
    "**Difference between dropout and recurrent_dropout**\n",
    "\n",
    "Dropout (normal) refers to the input and output, i.e. a portion of the output/input is masked (dropped). If stated within the layer's argument it refers to the input. If added as an additional layer it refers to the output.\n",
    "\n",
    "Recurrent dropout masks (or \"drops\") the connections between the recurrent units.\n",
    "\n",
    "More details are in [this article](https://arxiv.org/pdf/1512.05287.pdf)"
   ]
  },
  {
   "cell_type": "code",
   "execution_count": 42,
   "metadata": {
    "collapsed": true
   },
   "outputs": [],
   "source": [
    "def create_model(vocab, length):\n",
    "    inputs_shape = Input(shape=(length,))\n",
    "    embed = Embedding(input_dim=vocab, output_dim=300, weights=[embedding_matrix],\\\n",
    "                     trainable=False)(inputs_shape)\n",
    "    spat_drop = SpatialDropout1D(0.2)(embed)\n",
    "    lstm = LSTM(150, return_sequences=True)(spat_drop)\n",
    "    pool = MaxPooling1D(pool_size=2)(lstm)\n",
    "    flat = Flatten()(pool)\n",
    "    dense1 = Dense(500, activation='relu')(flat)\n",
    "    drop1 = Dropout(0.3)(dense1)\n",
    "    dense2 = Dense(20, activation='relu')(drop1)\n",
    "    drop2 = Dropout(0.3)(dense2)\n",
    "    output = Dense(6, activation='sigmoid')(drop2)\n",
    "    model = Model(inputs=inputs_shape, outputs=output)\n",
    "    model.compile(loss='binary_crossentropy', optimizer='adam', metrics=['accuracy'])\n",
    "    return model"
   ]
  },
  {
   "cell_type": "code",
   "execution_count": 43,
   "metadata": {
    "collapsed": true
   },
   "outputs": [],
   "source": [
    "model = create_model(vocab_size, max_len)"
   ]
  },
  {
   "cell_type": "code",
   "execution_count": 44,
   "metadata": {},
   "outputs": [
    {
     "name": "stdout",
     "output_type": "stream",
     "text": [
      "_________________________________________________________________\n",
      "Layer (type)                 Output Shape              Param #   \n",
      "=================================================================\n",
      "input_2 (InputLayer)         (None, 200)               0         \n",
      "_________________________________________________________________\n",
      "embedding_2 (Embedding)      (None, 200, 300)          15110700  \n",
      "_________________________________________________________________\n",
      "spatial_dropout1d_2 (Spatial (None, 200, 300)          0         \n",
      "_________________________________________________________________\n",
      "lstm_2 (LSTM)                (None, 200, 150)          270600    \n",
      "_________________________________________________________________\n",
      "max_pooling1d_2 (MaxPooling1 (None, 100, 150)          0         \n",
      "_________________________________________________________________\n",
      "flatten_2 (Flatten)          (None, 15000)             0         \n",
      "_________________________________________________________________\n",
      "dense_4 (Dense)              (None, 500)               7500500   \n",
      "_________________________________________________________________\n",
      "dropout_3 (Dropout)          (None, 500)               0         \n",
      "_________________________________________________________________\n",
      "dense_5 (Dense)              (None, 20)                10020     \n",
      "_________________________________________________________________\n",
      "dropout_4 (Dropout)          (None, 20)                0         \n",
      "_________________________________________________________________\n",
      "dense_6 (Dense)              (None, 6)                 126       \n",
      "=================================================================\n",
      "Total params: 22,891,946\n",
      "Trainable params: 7,781,246\n",
      "Non-trainable params: 15,110,700\n",
      "_________________________________________________________________\n"
     ]
    }
   ],
   "source": [
    "model.summary()"
   ]
  },
  {
   "cell_type": "code",
   "execution_count": 45,
   "metadata": {
    "collapsed": true
   },
   "outputs": [],
   "source": [
    "# Create an object of the RocAucEvaluation class\n",
    "roc_auc_eval = RocAucEvaluation(train_data=(X_train_for_model, y_train), validation_data=(X_val_for_model, y_val), interval = 1)"
   ]
  },
  {
   "cell_type": "code",
   "execution_count": 46,
   "metadata": {},
   "outputs": [
    {
     "name": "stdout",
     "output_type": "stream",
     "text": [
      "Train on 127656 samples, validate on 31915 samples\n",
      "Epoch 1/6\n",
      "127656/127656 [==============================] - 128s 1ms/step - loss: 0.1030 - acc: 0.9650 - val_loss: 0.0564 - val_acc: 0.9799\n",
      "\n",
      "val ROC-AUC - epoch: 1 - score: 0.973440\n",
      "Epoch 2/6\n",
      "127656/127656 [==============================] - 126s 988us/step - loss: 0.0612 - acc: 0.9783 - val_loss: 0.0507 - val_acc: 0.9815\n",
      "\n",
      "val ROC-AUC - epoch: 2 - score: 0.976751\n",
      "Epoch 3/6\n",
      "127656/127656 [==============================] - 126s 988us/step - loss: 0.0541 - acc: 0.9807 - val_loss: 0.0497 - val_acc: 0.9816\n",
      "\n",
      "val ROC-AUC - epoch: 3 - score: 0.978552\n",
      "Epoch 4/6\n",
      "127656/127656 [==============================] - 126s 988us/step - loss: 0.0501 - acc: 0.9817 - val_loss: 0.0489 - val_acc: 0.9821\n",
      "\n",
      "val ROC-AUC - epoch: 4 - score: 0.979294\n",
      "Epoch 5/6\n",
      "127656/127656 [==============================] - 126s 988us/step - loss: 0.0467 - acc: 0.9824 - val_loss: 0.0496 - val_acc: 0.9817\n",
      "\n",
      "val ROC-AUC - epoch: 5 - score: 0.980249\n",
      "Epoch 6/6\n",
      "127656/127656 [==============================] - 126s 987us/step - loss: 0.0440 - acc: 0.9832 - val_loss: 0.0482 - val_acc: 0.9821\n",
      "\n",
      "val ROC-AUC - epoch: 6 - score: 0.979998\n"
     ]
    }
   ],
   "source": [
    "epochs = 6\n",
    "batch_size = 512\n",
    "h = model.fit(X_train_for_model, y_train, batch_size=batch_size, epochs=epochs, validation_data=(X_val_for_model, y_val),\\\n",
    "              callbacks = [roc_auc_eval], verbose=1)"
   ]
  },
  {
   "cell_type": "code",
   "execution_count": 48,
   "metadata": {
    "collapsed": true
   },
   "outputs": [],
   "source": [
    "y_pred = model.predict(X_val_for_model, batch_size=1024)"
   ]
  },
  {
   "cell_type": "code",
   "execution_count": 49,
   "metadata": {
    "collapsed": true
   },
   "outputs": [
    {
     "name": "stdout",
     "output_type": "stream",
     "text": [
      "AUC score on validation set is:  0.9799976199448172\n"
     ]
    }
   ],
   "source": [
    "auc_score = roc_auc_score(y_val, y_pred)\n",
    "print(\"AUC score on validation set is: \", auc_score)"
   ]
  }
 ],
 "metadata": {
  "kernelspec": {
   "display_name": "Python 3",
   "language": "python",
   "name": "python3"
  },
  "language_info": {
   "codemirror_mode": {
    "name": "ipython",
    "version": 3
   },
   "file_extension": ".py",
   "mimetype": "text/x-python",
   "name": "python",
   "nbconvert_exporter": "python",
   "pygments_lexer": "ipython3",
   "version": "3.6.3"
  }
 },
 "nbformat": 4,
 "nbformat_minor": 2
}
